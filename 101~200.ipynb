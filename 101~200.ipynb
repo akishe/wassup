{
 "cells": [
  {
   "cell_type": "markdown",
   "id": "95b8a319",
   "metadata": {
    "toc": true
   },
   "source": [
    "<h1>Table of Contents<span class=\"tocSkip\"></span></h1>\n",
    "<div class=\"toc\"><ul class=\"toc-item\"></ul></div>"
   ]
  },
  {
   "cell_type": "code",
   "execution_count": 1,
   "id": "84ae462b",
   "metadata": {},
   "outputs": [
    {
     "data": {
      "text/plain": [
       "bool"
      ]
     },
     "execution_count": 1,
     "metadata": {},
     "output_type": "execute_result"
    }
   ],
   "source": [
    "bool"
   ]
  },
  {
   "cell_type": "code",
   "execution_count": 2,
   "id": "624edc17",
   "metadata": {},
   "outputs": [
    {
     "name": "stdout",
     "output_type": "stream",
     "text": [
      "False\n"
     ]
    }
   ],
   "source": [
    "print(3 == 5)"
   ]
  },
  {
   "cell_type": "code",
   "execution_count": 3,
   "id": "4f74b042",
   "metadata": {},
   "outputs": [
    {
     "name": "stdout",
     "output_type": "stream",
     "text": [
      "True\n"
     ]
    }
   ],
   "source": [
    "print(3<5)"
   ]
  },
  {
   "cell_type": "code",
   "execution_count": 4,
   "id": "2b23c627",
   "metadata": {},
   "outputs": [
    {
     "name": "stdout",
     "output_type": "stream",
     "text": [
      "True\n"
     ]
    }
   ],
   "source": [
    "x=4\n",
    "print(1<x<5)"
   ]
  },
  {
   "cell_type": "code",
   "execution_count": 5,
   "id": "c91a70e6",
   "metadata": {},
   "outputs": [
    {
     "name": "stdout",
     "output_type": "stream",
     "text": [
      "True\n"
     ]
    }
   ],
   "source": [
    "print ((3 == 3) and (4 != 3))"
   ]
  },
  {
   "cell_type": "code",
   "execution_count": 6,
   "id": "5799cfce",
   "metadata": {},
   "outputs": [],
   "source": [
    "#print(3 => 4)\n",
    "# 에러 메시지와 함께 출력되지 않는다. \n",
    "# \">=\"이어야 하는데 순서가 잘못 됌\n"
   ]
  },
  {
   "cell_type": "markdown",
   "id": "52b43c81",
   "metadata": {},
   "source": [
    "\">=\"이어야 하는데 순서가 잘못 됌 "
   ]
  },
  {
   "cell_type": "code",
   "execution_count": 7,
   "id": "fdd9e50e",
   "metadata": {},
   "outputs": [],
   "source": [
    "if 4 < 3:\n",
    "    print(\"Hello World\")\n",
    "# 출력되지 않는다 : if가 false니까"
   ]
  },
  {
   "cell_type": "code",
   "execution_count": 8,
   "id": "dc333084",
   "metadata": {},
   "outputs": [
    {
     "name": "stdout",
     "output_type": "stream",
     "text": [
      "Hi, there.\n"
     ]
    }
   ],
   "source": [
    "if 4 < 3:\n",
    "    print(\"Hello World.\")\n",
    "else:\n",
    "    print(\"Hi, there.\")"
   ]
  },
  {
   "cell_type": "code",
   "execution_count": 9,
   "id": "aa30879e",
   "metadata": {},
   "outputs": [
    {
     "name": "stdout",
     "output_type": "stream",
     "text": [
      "1\n",
      "2\n",
      "4\n"
     ]
    }
   ],
   "source": [
    "if True :\n",
    "    print (\"1\")\n",
    "    print (\"2\")\n",
    "else :\n",
    "    print(\"3\")\n",
    "print(\"4\")"
   ]
  },
  {
   "cell_type": "code",
   "execution_count": 10,
   "id": "cf4dc501",
   "metadata": {},
   "outputs": [
    {
     "name": "stdout",
     "output_type": "stream",
     "text": [
      "3\n",
      "5\n"
     ]
    }
   ],
   "source": [
    "if True :\n",
    "    if False:\n",
    "        print(\"1\")\n",
    "        print(\"2\")\n",
    "    else:\n",
    "        print(\"3\")\n",
    "else :\n",
    "    print(\"4\")\n",
    "print(\"5\")"
   ]
  },
  {
   "cell_type": "code",
   "execution_count": 11,
   "id": "e77e111b",
   "metadata": {},
   "outputs": [
    {
     "name": "stdout",
     "output_type": "stream",
     "text": [
      "안녕하세요\n",
      "안녕하세요안녕하세요\n"
     ]
    }
   ],
   "source": [
    "a = input()\n",
    "print(a*2)"
   ]
  },
  {
   "cell_type": "code",
   "execution_count": 12,
   "id": "a264e648",
   "metadata": {},
   "outputs": [
    {
     "name": "stdout",
     "output_type": "stream",
     "text": [
      "4\n",
      "14\n"
     ]
    }
   ],
   "source": [
    "a= int(input())\n",
    "print(a+10)"
   ]
  },
  {
   "cell_type": "code",
   "execution_count": 13,
   "id": "4c7bf7cf",
   "metadata": {},
   "outputs": [
    {
     "name": "stdout",
     "output_type": "stream",
     "text": [
      "13\n",
      "홀수\n"
     ]
    }
   ],
   "source": [
    "a= int(input())\n",
    "if a%2 ==1:\n",
    "    print(\"홀수\")\n",
    "else:\n",
    "     print(\"짝수\")"
   ]
  },
  {
   "cell_type": "code",
   "execution_count": 14,
   "id": "c6fdce19",
   "metadata": {},
   "outputs": [
    {
     "name": "stdout",
     "output_type": "stream",
     "text": [
      "45\n",
      "65\n"
     ]
    }
   ],
   "source": [
    "a= int(input())\n",
    "if a + 20 > 255:\n",
    "    print(255)\n",
    "else:\n",
    "    print(a+20)"
   ]
  },
  {
   "cell_type": "code",
   "execution_count": 15,
   "id": "a825c829",
   "metadata": {},
   "outputs": [
    {
     "name": "stdout",
     "output_type": "stream",
     "text": [
      "입력값 : 488\n",
      "출력값 : 255\n"
     ]
    }
   ],
   "source": [
    "a= int(input(\"입력값 : \"))\n",
    "print(\"출력값 : \",end='')\n",
    "if a - 20 > 255:\n",
    "    print(255)\n",
    "elif a- 20<0:\n",
    "    print(0)\n",
    "else:\n",
    "    print(a+20)"
   ]
  },
  {
   "cell_type": "code",
   "execution_count": 16,
   "id": "82850ca9",
   "metadata": {},
   "outputs": [
    {
     "name": "stdout",
     "output_type": "stream",
     "text": [
      "현재 시간 : 12:09\n",
      "정각이 아닙니다\n"
     ]
    }
   ],
   "source": [
    "a= input(\"현재 시간 : \")\n",
    "if a.split(\":\")[1] == '00':\n",
    "    print(\"정각입니다\")\n",
    "else:\n",
    "    print(\"정각이 아닙니다\")"
   ]
  },
  {
   "cell_type": "code",
   "execution_count": 17,
   "id": "e97a5f6b",
   "metadata": {},
   "outputs": [
    {
     "name": "stdout",
     "output_type": "stream",
     "text": [
      "좋아하는 과일은? 귤\n",
      "오답입니다\n"
     ]
    }
   ],
   "source": [
    "fruit = [\"사과\", \"포도\", \"홍시\"]\n",
    "a= input(\"좋아하는 과일은? \")\n",
    "if a in fruit:\n",
    "    print(\"정답입니다\")\n",
    "else:\n",
    "    print(\"오답입니다\")"
   ]
  },
  {
   "cell_type": "code",
   "execution_count": 18,
   "id": "1496f9f4",
   "metadata": {},
   "outputs": [
    {
     "name": "stdout",
     "output_type": "stream",
     "text": [
      "종목을 입력해주세요. Kakao\n",
      "투자 경고 종목입니다\n"
     ]
    }
   ],
   "source": [
    "warn_investment_list = [\"Microsoft\", \"Google\", \"Naver\", \"Kakao\", \"SAMSUNG\", \"LG\"]\n",
    "a= input(\"종목을 입력해주세요. \")\n",
    "if a in warn_investment_list:\n",
    "    print(\"투자 경고 종목입니다\")\n",
    "else:\n",
    "    print(\"투자 경고 종목이 아닙니다\")"
   ]
  },
  {
   "cell_type": "code",
   "execution_count": 19,
   "id": "53989cd6",
   "metadata": {},
   "outputs": [
    {
     "name": "stdout",
     "output_type": "stream",
     "text": [
      "제가좋아하는계절은: 봄\n",
      "정답입니다\n"
     ]
    }
   ],
   "source": [
    "fruit = {\"봄\" : \"딸기\", \"여름\" : \"토마토\", \"가을\" : \"사과\"}\n",
    "a= input(\"제가좋아하는계절은: \")\n",
    "if a in fruit.keys():\n",
    "    print(\"정답입니다\")\n",
    "else:\n",
    "    print(\"오답입니다\")"
   ]
  },
  {
   "cell_type": "code",
   "execution_count": 20,
   "id": "179c8075",
   "metadata": {},
   "outputs": [
    {
     "name": "stdout",
     "output_type": "stream",
     "text": [
      "제가좋아하는과일은: 딸기\n",
      "정답입니다\n"
     ]
    }
   ],
   "source": [
    "fruit = {\"봄\" : \"딸기\", \"여름\" : \"토마토\", \"가을\" : \"사과\"}\n",
    "a= input(\"제가좋아하는과일은: \")\n",
    "if a in fruit.values():\n",
    "    print(\"정답입니다\")\n",
    "else:\n",
    "    print(\"오답입니다\")"
   ]
  },
  {
   "cell_type": "code",
   "execution_count": 21,
   "id": "3edc7626",
   "metadata": {},
   "outputs": [
    {
     "name": "stdout",
     "output_type": "stream",
     "text": [
      "a\n",
      "A\n"
     ]
    }
   ],
   "source": [
    "a = input()\n",
    "if a.islower():\n",
    "    print(a.upper())\n",
    "else:\n",
    "    print(a.lower())"
   ]
  },
  {
   "cell_type": "code",
   "execution_count": 22,
   "id": "9615db8d",
   "metadata": {},
   "outputs": [
    {
     "name": "stdout",
     "output_type": "stream",
     "text": [
      "34\n",
      "grade is D\n"
     ]
    }
   ],
   "source": [
    "a = int(input())\n",
    "if a>80:\n",
    "    d = \"A\"\n",
    "elif a>60:\n",
    "    d= \"B\"\n",
    "elif a>40:\n",
    "    d=\"C\"\n",
    "elif a>20:\n",
    "    d=\"D\"\n",
    "else:\n",
    "    d=\"E\"\n",
    "print(f\"grade is {d}\")"
   ]
  },
  {
   "cell_type": "code",
   "execution_count": 23,
   "id": "cbe41e34",
   "metadata": {},
   "outputs": [
    {
     "name": "stdout",
     "output_type": "stream",
     "text": [
      "입력 : 1 엔\n",
      "1.096\n"
     ]
    }
   ],
   "source": [
    "a = input(\"입력 : \")\n",
    "if a.split(\" \")[1] ==\"달러\":\n",
    "    print(int(a.split(\" \")[0]) * 1167)\n",
    "elif a.split(\" \")[1] ==\"엔\":\n",
    "    print(int(a.split(\" \")[0]) * 1.096)\n",
    "elif a.split(\" \")[1] ==\"유로\":\n",
    "    print(int(a.split(\" \")[0]) * 1268)\n",
    "else: \n",
    "    print(int(a.split(\" \")[0]) * 171)"
   ]
  },
  {
   "cell_type": "code",
   "execution_count": 24,
   "id": "2a513d5b",
   "metadata": {},
   "outputs": [
    {
     "name": "stdout",
     "output_type": "stream",
     "text": [
      "입력1 : 5\n",
      "입력2 : 7\n",
      "입력3 : 8\n",
      "8\n"
     ]
    }
   ],
   "source": [
    "a = input(\"입력1 : \")\n",
    "b = input(\"입력2 : \")\n",
    "c = input(\"입력3 : \")\n",
    "print(max(a,b,c))"
   ]
  },
  {
   "cell_type": "code",
   "execution_count": 25,
   "id": "8c3ba369",
   "metadata": {},
   "outputs": [
    {
     "name": "stdout",
     "output_type": "stream",
     "text": [
      "휴대 전화 번호 입력 : 010-1234-5678\n",
      "당신은 알 수 없는 사용자입니다.\n"
     ]
    }
   ],
   "source": [
    "a = input(\"휴대 전화 번호 입력 : \")\n",
    "b = a.split('-',)[0]\n",
    "if b =='011':\n",
    "    d = 'skt'\n",
    "elif b == '016':\n",
    "    d = 'kt'\n",
    "elif b== '019' : \n",
    "    d = 'LGU'\n",
    "elif b == '010':\n",
    "    d = \"알 수 없는\"\n",
    "print(f\"당신은 {d} 사용자입니다.\")"
   ]
  },
  {
   "cell_type": "code",
   "execution_count": 26,
   "id": "0552fb4f",
   "metadata": {},
   "outputs": [
    {
     "name": "stdout",
     "output_type": "stream",
     "text": [
      "우편번호: 01056\n",
      "강북구\n"
     ]
    }
   ],
   "source": [
    "a = input(\"우편번호: \")\n",
    "a = a[0:3]\n",
    "if a in [\"010\", \"011\", \"012\"]:\n",
    "    print(\"강북구\")\n",
    "elif a in [\"014\", \"015\", \"016\"]:\n",
    "    print(\"도봉구\")\n",
    "else:\n",
    "    print(\"노원구\")"
   ]
  },
  {
   "cell_type": "code",
   "execution_count": 27,
   "id": "7a1f7ffa",
   "metadata": {},
   "outputs": [
    {
     "name": "stdout",
     "output_type": "stream",
     "text": [
      "주민등록번호: 123456-7865423\n",
      "남자\n"
     ]
    }
   ],
   "source": [
    "a = input(\"주민등록번호: \")\n",
    "a = int(a.split(\"-\")[1][0])\n",
    "if a%2==1:\n",
    "    print(\"남자\")\n",
    "else:\n",
    "    print(\"여자\")"
   ]
  },
  {
   "cell_type": "code",
   "execution_count": 28,
   "id": "ac2a4b40",
   "metadata": {},
   "outputs": [
    {
     "name": "stdout",
     "output_type": "stream",
     "text": [
      "주민등록번호: 123456-7865423\n",
      "서울이 아닙니다\n"
     ]
    }
   ],
   "source": [
    "a = input(\"주민등록번호: \")\n",
    "a = int(a.split(\"-\")[1][1:3])\n",
    "if a<=8:\n",
    "    print(\"서울입니다\")\n",
    "else : \n",
    "    print(\"서울이 아닙니다\")"
   ]
  },
  {
   "cell_type": "code",
   "execution_count": 29,
   "id": "d24fe1e8",
   "metadata": {},
   "outputs": [
    {
     "name": "stdout",
     "output_type": "stream",
     "text": [
      "123456-7865423\n",
      "4\n",
      "유효하지 않은 주민등록번호입니다.\n"
     ]
    }
   ],
   "source": [
    "a = [2, 3, 4, 5, 6, 7, 8, 9, 2, 3, 4, 5]\n",
    "b = input()\n",
    "c = b.split('-')[0]\n",
    "d = b.split('-')[1]\n",
    "num = 0\n",
    "for l in range(len(c)):\n",
    "    num += int(c[l]) * a[l]\n",
    "for l in range(len(c),len(a)):\n",
    "    num += int(d[l-len(c)]) * a[l]\n",
    "print(11-num%11)\n",
    "if (11-num%11) == int(d[-1]):\n",
    "    print('유효한 주민등록번호이다')\n",
    "else:\n",
    "    print(\"유효하지 않은 주민등록번호입니다.\")"
   ]
  },
  {
   "cell_type": "code",
   "execution_count": 30,
   "id": "4ea7b8e5",
   "metadata": {},
   "outputs": [
    {
     "name": "stdout",
     "output_type": "stream",
     "text": [
      "하락장\n"
     ]
    }
   ],
   "source": [
    "import requests\n",
    "btc = requests.get(\"https://api.bithumb.com/public/ticker/\").json()['data']\n",
    "변동폭 = int(btc['max_price']) - int(btc['min_price'])\n",
    "if (int(btc['opening_price'])-변동폭) > int(btc['max_price']):\n",
    "    print(\"상승장\")\n",
    "else:\n",
    "    print('하락장')"
   ]
  },
  {
   "cell_type": "code",
   "execution_count": 31,
   "id": "a8a77c17",
   "metadata": {},
   "outputs": [
    {
     "name": "stdout",
     "output_type": "stream",
     "text": [
      "사과\n",
      "귤\n",
      "수박\n"
     ]
    }
   ],
   "source": [
    "과일 = [\"사과\", \"귤\", \"수박\"]\n",
    "for 변수 in 과일:\n",
    "    print(변수)"
   ]
  },
  {
   "cell_type": "code",
   "execution_count": 32,
   "id": "c9938bec",
   "metadata": {},
   "outputs": [
    {
     "name": "stdout",
     "output_type": "stream",
     "text": [
      "#####\n",
      "#####\n",
      "#####\n"
     ]
    }
   ],
   "source": [
    "과일 = [\"사과\", \"귤\", \"수박\"]\n",
    "for 변수 in 과일:\n",
    "    print(\"#####\")"
   ]
  },
  {
   "cell_type": "code",
   "execution_count": 33,
   "id": "72265a90",
   "metadata": {},
   "outputs": [
    {
     "name": "stdout",
     "output_type": "stream",
     "text": [
      "A\n",
      "B\n",
      "C\n"
     ]
    }
   ],
   "source": [
    "a = ['A','B','C']\n",
    "print(a[0])\n",
    "print(a[1])\n",
    "print(a[2])"
   ]
  },
  {
   "cell_type": "code",
   "execution_count": 34,
   "id": "b5bf424b",
   "metadata": {},
   "outputs": [
    {
     "name": "stdout",
     "output_type": "stream",
     "text": [
      "출력: A\n",
      "출력: B\n",
      "출력: C\n"
     ]
    }
   ],
   "source": [
    "a = [\"A\", \"B\", \"C\"]\n",
    "print(\"출력:\", a[0])\n",
    "print(\"출력:\", a[1])\n",
    "print(\"출력:\", a[2])"
   ]
  },
  {
   "cell_type": "code",
   "execution_count": 35,
   "id": "6278bb1c",
   "metadata": {},
   "outputs": [
    {
     "name": "stdout",
     "output_type": "stream",
     "text": [
      "변환: a\n",
      "변환: b\n",
      "변환: c\n"
     ]
    }
   ],
   "source": [
    "a = [\"A\", \"B\", \"C\"]\n",
    "print(\"변환:\", a[0].lower())\n",
    "print(\"변환:\", a[1].lower())\n",
    "print(\"변환:\", a[2].lower())"
   ]
  },
  {
   "cell_type": "code",
   "execution_count": 36,
   "id": "dec8a44c",
   "metadata": {},
   "outputs": [
    {
     "name": "stdout",
     "output_type": "stream",
     "text": [
      "10\n",
      "20\n",
      "30\n"
     ]
    }
   ],
   "source": [
    "for l in [10,20,30]:\n",
    "    print(l)"
   ]
  },
  {
   "cell_type": "code",
   "execution_count": 37,
   "id": "60d27490",
   "metadata": {},
   "outputs": [
    {
     "name": "stdout",
     "output_type": "stream",
     "text": [
      "10\n",
      "20\n",
      "30\n"
     ]
    }
   ],
   "source": [
    "for l in [10,20,30]:\n",
    "    print(l)"
   ]
  },
  {
   "cell_type": "code",
   "execution_count": 38,
   "id": "e35197f6",
   "metadata": {},
   "outputs": [
    {
     "name": "stdout",
     "output_type": "stream",
     "text": [
      "10\n",
      "-------\n",
      "20\n",
      "-------\n",
      "30\n",
      "-------\n"
     ]
    }
   ],
   "source": [
    "for l in [10,20,30]:\n",
    "    print(l)\n",
    "    print('-------')"
   ]
  },
  {
   "cell_type": "code",
   "execution_count": 39,
   "id": "09c14efd",
   "metadata": {},
   "outputs": [
    {
     "name": "stdout",
     "output_type": "stream",
     "text": [
      "++++\n",
      "10\n",
      "20\n",
      "30\n"
     ]
    }
   ],
   "source": [
    "for l in ['++++',10,20,30]:\n",
    "    print(l)"
   ]
  },
  {
   "cell_type": "code",
   "execution_count": 40,
   "id": "1e052b55",
   "metadata": {},
   "outputs": [
    {
     "name": "stdout",
     "output_type": "stream",
     "text": [
      "-------\n",
      "-------\n",
      "-------\n",
      "-------\n"
     ]
    }
   ],
   "source": [
    "for l in [10,20,30,40]:\n",
    "    print('-------')"
   ]
  },
  {
   "cell_type": "code",
   "execution_count": 41,
   "id": "ad9f297f",
   "metadata": {},
   "outputs": [
    {
     "name": "stdout",
     "output_type": "stream",
     "text": [
      "110\n",
      "210\n",
      "310\n"
     ]
    }
   ],
   "source": [
    "리스트 = [100, 200, 300]\n",
    "for l in 리스트:\n",
    "    print(l+10)"
   ]
  },
  {
   "cell_type": "code",
   "execution_count": 42,
   "id": "32192776",
   "metadata": {},
   "outputs": [
    {
     "name": "stdout",
     "output_type": "stream",
     "text": [
      "김밥\n",
      "라면\n",
      "튀김\n"
     ]
    }
   ],
   "source": [
    "리스트 = [\"김밥\", \"라면\", \"튀김\"]\n",
    "for l in 리스트:\n",
    "    print(l)"
   ]
  },
  {
   "cell_type": "code",
   "execution_count": 43,
   "id": "38e62ee3",
   "metadata": {},
   "outputs": [
    {
     "name": "stdout",
     "output_type": "stream",
     "text": [
      "6\n",
      "4\n",
      "4\n"
     ]
    }
   ],
   "source": [
    "리스트 = [\"SK하이닉스\", \"삼성전자\", \"LG전자\"]\n",
    "for l in 리스트:\n",
    "    print(len(l))"
   ]
  },
  {
   "cell_type": "code",
   "execution_count": 44,
   "id": "cec19c99",
   "metadata": {},
   "outputs": [
    {
     "name": "stdout",
     "output_type": "stream",
     "text": [
      "3\n",
      "3\n",
      "6\n"
     ]
    }
   ],
   "source": [
    "리스트 = ['dog', 'cat', 'parrot']\n",
    "for l in 리스트:\n",
    "    print(len(l))"
   ]
  },
  {
   "cell_type": "code",
   "execution_count": 45,
   "id": "b4616fe1",
   "metadata": {},
   "outputs": [
    {
     "name": "stdout",
     "output_type": "stream",
     "text": [
      "d\n",
      "c\n",
      "p\n"
     ]
    }
   ],
   "source": [
    "리스트 = ['dog', 'cat', 'parrot']\n",
    "for l in 리스트:\n",
    "    print(l[0])"
   ]
  },
  {
   "cell_type": "code",
   "execution_count": 46,
   "id": "2b04a8af",
   "metadata": {},
   "outputs": [
    {
     "name": "stdout",
     "output_type": "stream",
     "text": [
      "3 x 1\n",
      "3 x 2\n",
      "3 x 3\n"
     ]
    }
   ],
   "source": [
    "리스트 = [1, 2, 3]\n",
    "for l in 리스트:\n",
    "    print(f'3 x {l}')"
   ]
  },
  {
   "cell_type": "code",
   "execution_count": 47,
   "id": "2ff99c67",
   "metadata": {},
   "outputs": [
    {
     "name": "stdout",
     "output_type": "stream",
     "text": [
      "3 x 1 = 3\n",
      "3 x 2 = 6\n",
      "3 x 3 = 9\n"
     ]
    }
   ],
   "source": [
    "리스트 = [1, 2, 3]\n",
    "for l in 리스트:\n",
    "    print(f'3 x {l} = {3*l}')"
   ]
  },
  {
   "cell_type": "code",
   "execution_count": 48,
   "id": "5a7618de",
   "metadata": {},
   "outputs": [
    {
     "name": "stdout",
     "output_type": "stream",
     "text": [
      "나\n",
      "다\n",
      "라\n"
     ]
    }
   ],
   "source": [
    "리스트 = [\"가\", \"나\", \"다\", \"라\"]\n",
    "for l in 리스트[1:]:\n",
    "    print(l)"
   ]
  },
  {
   "cell_type": "code",
   "execution_count": 49,
   "id": "a2617347",
   "metadata": {},
   "outputs": [
    {
     "name": "stdout",
     "output_type": "stream",
     "text": [
      "가\n",
      "다\n"
     ]
    }
   ],
   "source": [
    "리스트 = [\"가\", \"나\", \"다\", \"라\"]\n",
    "for l in 리스트[::2]:\n",
    "    print(l)"
   ]
  },
  {
   "cell_type": "code",
   "execution_count": 50,
   "id": "f93eaaf7",
   "metadata": {},
   "outputs": [
    {
     "name": "stdout",
     "output_type": "stream",
     "text": [
      "라\n",
      "다\n",
      "나\n",
      "가\n"
     ]
    }
   ],
   "source": [
    "리스트 = [\"가\", \"나\", \"다\", \"라\"]\n",
    "for l in 리스트[::-1]:\n",
    "    print(l)"
   ]
  },
  {
   "cell_type": "code",
   "execution_count": 51,
   "id": "88f9eadf",
   "metadata": {},
   "outputs": [
    {
     "name": "stdout",
     "output_type": "stream",
     "text": [
      "-20\n",
      "-3\n"
     ]
    }
   ],
   "source": [
    "리스트 = [3, -20, -3, 44]\n",
    "for l in 리스트[1:3]:\n",
    "    print(l)"
   ]
  },
  {
   "cell_type": "code",
   "execution_count": 52,
   "id": "4eba0fab",
   "metadata": {},
   "outputs": [
    {
     "name": "stdout",
     "output_type": "stream",
     "text": [
      "3\n"
     ]
    }
   ],
   "source": [
    "리스트 = [3, 100, 23, 44]\n",
    "for l in 리스트[:1]:\n",
    "    print(l)"
   ]
  },
  {
   "cell_type": "code",
   "execution_count": 53,
   "id": "3c3adfdd",
   "metadata": {},
   "outputs": [
    {
     "name": "stdout",
     "output_type": "stream",
     "text": [
      "21\n",
      "12\n",
      "30\n",
      "18\n"
     ]
    }
   ],
   "source": [
    "리스트 = [13, 21, 12, 14, 30, 18]\n",
    "for l in 리스트:\n",
    "    if l%3 ==0:\n",
    "        print(l)"
   ]
  },
  {
   "cell_type": "code",
   "execution_count": 54,
   "id": "cd43354e",
   "metadata": {},
   "outputs": [
    {
     "name": "stdout",
     "output_type": "stream",
     "text": [
      "study\n",
      "python\n",
      "language\n"
     ]
    }
   ],
   "source": [
    "리스트 = [\"I\", \"study\", \"python\", \"language\", \"!\"]\n",
    "for l in 리스트:\n",
    "    if len(l) >=3:\n",
    "        print(l)"
   ]
  },
  {
   "cell_type": "code",
   "execution_count": 55,
   "id": "97b13c14",
   "metadata": {},
   "outputs": [
    {
     "name": "stdout",
     "output_type": "stream",
     "text": [
      "A\n",
      "D\n"
     ]
    }
   ],
   "source": [
    "리스트 = [\"A\", \"b\", \"c\", \"D\"]\n",
    "for l in 리스트:\n",
    "    if l.isupper():\n",
    "        print(l)"
   ]
  },
  {
   "cell_type": "code",
   "execution_count": 56,
   "id": "3c801bcc",
   "metadata": {},
   "outputs": [
    {
     "name": "stdout",
     "output_type": "stream",
     "text": [
      "b\n",
      "c\n"
     ]
    }
   ],
   "source": [
    "for l in 리스트:\n",
    "    if l.islower():\n",
    "        print(l)"
   ]
  },
  {
   "cell_type": "code",
   "execution_count": 57,
   "id": "09bcf3df",
   "metadata": {},
   "outputs": [
    {
     "name": "stdout",
     "output_type": "stream",
     "text": [
      "Dog\n",
      "Cat\n",
      "Parrot\n"
     ]
    }
   ],
   "source": [
    "리스트 = ['dog', 'cat', 'parrot']\n",
    "for l in 리스트:\n",
    "    print(l[0].upper()+l[1:])"
   ]
  },
  {
   "cell_type": "code",
   "execution_count": 58,
   "id": "f9c44891",
   "metadata": {},
   "outputs": [
    {
     "name": "stdout",
     "output_type": "stream",
     "text": [
      "hello\n",
      "ex01\n",
      "intro\n"
     ]
    }
   ],
   "source": [
    "리스트 = ['hello.py', 'ex01.py', 'intro.hwp']\n",
    "for l in 리스트:\n",
    "    print(l.split('.')[0])"
   ]
  },
  {
   "cell_type": "code",
   "execution_count": 59,
   "id": "e36a568b",
   "metadata": {},
   "outputs": [
    {
     "name": "stdout",
     "output_type": "stream",
     "text": [
      "intra.h\n",
      "define.h\n"
     ]
    }
   ],
   "source": [
    "리스트 = ['intra.h', 'intra.c', 'define.h', 'run.py']\n",
    "for l in 리스트:\n",
    "    if l.split('.')[1] == 'h':\n",
    "        print(l)"
   ]
  },
  {
   "cell_type": "code",
   "execution_count": 60,
   "id": "f10dff4e",
   "metadata": {},
   "outputs": [
    {
     "name": "stdout",
     "output_type": "stream",
     "text": [
      "intra.h\n",
      "intra.c\n",
      "define.h\n"
     ]
    }
   ],
   "source": [
    "리스트 = ['intra.h', 'intra.c', 'define.h', 'run.py']\n",
    "for l in 리스트:\n",
    "    if l.split('.')[1] == 'h' or l.split('.')[1] == 'c':\n",
    "        print(l)"
   ]
  },
  {
   "cell_type": "code",
   "execution_count": 61,
   "id": "f34b0b50",
   "metadata": {},
   "outputs": [
    {
     "name": "stdout",
     "output_type": "stream",
     "text": [
      "0 1 2 3 4 5 6 7 8 9 10 11 12 13 14 15 16 17 18 19 20 21 22 23 24 25 26 27 28 29 30 31 32 33 34 35 36 37 38 39 40 41 42 43 44 45 46 47 48 49 50 51 52 53 54 55 56 57 58 59 60 61 62 63 64 65 66 67 68 69 70 71 72 73 74 75 76 77 78 79 80 81 82 83 84 85 86 87 88 89 90 91 92 93 94 95 96 97 98 99 "
     ]
    }
   ],
   "source": [
    "for l in range(0,100):\n",
    "    print(l,end=' ')"
   ]
  },
  {
   "cell_type": "code",
   "execution_count": 62,
   "id": "1abe110d",
   "metadata": {},
   "outputs": [
    {
     "name": "stdout",
     "output_type": "stream",
     "text": [
      "2002 2006 2010 2014 2018 2022 2026 2030 2034 2038 2042 2046 2050 "
     ]
    }
   ],
   "source": [
    "for l in range(2002,2051):\n",
    "    if l%4 == 2:\n",
    "        print(l, end = ' ')"
   ]
  },
  {
   "cell_type": "code",
   "execution_count": 63,
   "id": "0fd1bf1f",
   "metadata": {},
   "outputs": [
    {
     "name": "stdout",
     "output_type": "stream",
     "text": [
      "3 6 9 12 15 18 21 24 27 30 "
     ]
    }
   ],
   "source": [
    "for l in range(1,31):\n",
    "    if l%3 == 0:\n",
    "        print(l, end = ' ')"
   ]
  },
  {
   "cell_type": "code",
   "execution_count": 64,
   "id": "2c4dc426",
   "metadata": {},
   "outputs": [
    {
     "name": "stdout",
     "output_type": "stream",
     "text": [
      "99 98 97 96 95 94 93 92 91 90 89 88 87 86 85 84 83 82 81 80 79 78 77 76 75 74 73 72 71 70 69 68 67 66 65 64 63 62 61 60 59 58 57 56 55 54 53 52 51 50 49 48 47 46 45 44 43 42 41 40 39 38 37 36 35 34 33 32 31 30 29 28 27 26 25 24 23 22 21 20 19 18 17 16 15 14 13 12 11 10 9 8 7 6 5 4 3 2 1 0 "
     ]
    }
   ],
   "source": [
    "for l in range(99,-1,-1):\n",
    "    print(l,end = ' ')"
   ]
  },
  {
   "cell_type": "code",
   "execution_count": 65,
   "id": "c69d2688",
   "metadata": {},
   "outputs": [
    {
     "name": "stdout",
     "output_type": "stream",
     "text": [
      "0.0\n",
      "0.1\n",
      "0.2\n",
      "0.30000000000000004\n",
      "0.4\n",
      "0.5\n",
      "0.6000000000000001\n",
      "0.7000000000000001\n",
      "0.8\n",
      "0.9\n"
     ]
    }
   ],
   "source": [
    "for l in range(0,10):\n",
    "    print(l*0.1)"
   ]
  },
  {
   "cell_type": "code",
   "execution_count": 66,
   "id": "d671a914",
   "metadata": {},
   "outputs": [
    {
     "name": "stdout",
     "output_type": "stream",
     "text": [
      "3 x 1 = 3\n",
      "3 x 2 = 6\n",
      "3 x 3 = 9\n",
      "3 x 4 = 12\n",
      "3 x 5 = 15\n",
      "3 x 6 = 18\n",
      "3 x 7 = 21\n",
      "3 x 8 = 24\n",
      "3 x 9 = 27\n"
     ]
    }
   ],
   "source": [
    "for l in range(1,10):\n",
    "    print(f'3 x {l} = {3*l}')"
   ]
  },
  {
   "cell_type": "code",
   "execution_count": 67,
   "id": "7383bf93",
   "metadata": {},
   "outputs": [
    {
     "name": "stdout",
     "output_type": "stream",
     "text": [
      "3 x 1 = 3\n",
      "3 x 3 = 9\n",
      "3 x 5 = 15\n",
      "3 x 7 = 21\n",
      "3 x 9 = 27\n"
     ]
    }
   ],
   "source": [
    "for l in range(1,10,2):\n",
    "    print(f'3 x {l} = {3*l}')"
   ]
  },
  {
   "cell_type": "code",
   "execution_count": 68,
   "id": "d555e33c",
   "metadata": {},
   "outputs": [
    {
     "name": "stdout",
     "output_type": "stream",
     "text": [
      "55\n"
     ]
    }
   ],
   "source": [
    "num = 0\n",
    "for l in range(1,11):\n",
    "    num += l\n",
    "print(num)"
   ]
  },
  {
   "cell_type": "code",
   "execution_count": 69,
   "id": "2dd72c95",
   "metadata": {},
   "outputs": [
    {
     "name": "stdout",
     "output_type": "stream",
     "text": [
      "25\n"
     ]
    }
   ],
   "source": [
    "num = 0\n",
    "for l in range(1,11,2):\n",
    "    num += l\n",
    "print(num)"
   ]
  },
  {
   "cell_type": "code",
   "execution_count": 70,
   "id": "cbacf307",
   "metadata": {},
   "outputs": [
    {
     "name": "stdout",
     "output_type": "stream",
     "text": [
      "3628800\n"
     ]
    }
   ],
   "source": [
    "num = 1\n",
    "for l in range(1,11):\n",
    "    num *= l\n",
    "print(num)"
   ]
  },
  {
   "cell_type": "code",
   "execution_count": 71,
   "id": "89971324",
   "metadata": {},
   "outputs": [
    {
     "name": "stdout",
     "output_type": "stream",
     "text": [
      "32100\n",
      "32150\n",
      "32000\n",
      "32500\n"
     ]
    }
   ],
   "source": [
    "price_list = [32100, 32150, 32000, 32500]\n",
    "for l in range(0,len(price_list)):\n",
    "    print(price_list[l])"
   ]
  },
  {
   "cell_type": "code",
   "execution_count": 72,
   "id": "407f84c0",
   "metadata": {},
   "outputs": [
    {
     "name": "stdout",
     "output_type": "stream",
     "text": [
      "0 32100\n",
      "1 32150\n",
      "2 32000\n",
      "3 32500\n"
     ]
    }
   ],
   "source": [
    "price_list = [32100, 32150, 32000, 32500]\n",
    "for l in range(0,len(price_list)):\n",
    "    print(l, price_list[l])"
   ]
  },
  {
   "cell_type": "code",
   "execution_count": 73,
   "id": "a8d3c5ae",
   "metadata": {},
   "outputs": [
    {
     "name": "stdout",
     "output_type": "stream",
     "text": [
      "3 32100\n",
      "2 32150\n",
      "1 32000\n",
      "0 32500\n"
     ]
    }
   ],
   "source": [
    "price_list = [32100, 32150, 32000, 32500]\n",
    "for l in range(0,len(price_list)):\n",
    "    print(3-l, price_list[l])"
   ]
  },
  {
   "cell_type": "code",
   "execution_count": 74,
   "id": "ed5cc276",
   "metadata": {},
   "outputs": [
    {
     "name": "stdout",
     "output_type": "stream",
     "text": [
      "100 32150\n",
      "110 32000\n",
      "120 32500\n"
     ]
    }
   ],
   "source": [
    "price_list = [32100, 32150, 32000, 32500]\n",
    "for l in range(0,len(price_list)):\n",
    "    if l==0:\n",
    "        continue\n",
    "    print(90+10*l, price_list[l])"
   ]
  },
  {
   "cell_type": "code",
   "execution_count": 75,
   "id": "f80a7925",
   "metadata": {},
   "outputs": [
    {
     "name": "stdout",
     "output_type": "stream",
     "text": [
      "가 나\n",
      "나 다\n",
      "다 라\n"
     ]
    }
   ],
   "source": [
    "my_list = [\"가\", \"나\", \"다\", \"라\"]\n",
    "for l in range(0,len(my_list)-1):\n",
    "    print(my_list[l],my_list[l+1])"
   ]
  },
  {
   "cell_type": "code",
   "execution_count": 76,
   "id": "e1c499a3",
   "metadata": {},
   "outputs": [
    {
     "name": "stdout",
     "output_type": "stream",
     "text": [
      "가 나 다\n",
      "나 다 라\n",
      "다 라 마\n"
     ]
    }
   ],
   "source": [
    "my_list = [\"가\", \"나\", \"다\", \"라\", \"마\"]\n",
    "for l in range(0,len(my_list)-2):\n",
    "    print(my_list[l],my_list[l+1],my_list[l+2])"
   ]
  },
  {
   "cell_type": "code",
   "execution_count": 77,
   "id": "b1d4d35c",
   "metadata": {},
   "outputs": [
    {
     "name": "stdout",
     "output_type": "stream",
     "text": [
      "라 다\n",
      "다 나\n",
      "나 가\n"
     ]
    }
   ],
   "source": [
    "my_list = [\"가\", \"나\", \"다\", \"라\"]\n",
    "for l in range(len(my_list)-1,0,-1):\n",
    "    print(my_list[l],my_list[l-1])"
   ]
  },
  {
   "cell_type": "code",
   "execution_count": 78,
   "id": "88bf87b8",
   "metadata": {},
   "outputs": [
    {
     "name": "stdout",
     "output_type": "stream",
     "text": [
      "100\n",
      "200\n",
      "400\n"
     ]
    }
   ],
   "source": [
    "my_list = [100, 200, 400, 800]\n",
    "for l in range(0,len(my_list)-1):\n",
    "    print(my_list[l+1]-my_list[l])"
   ]
  },
  {
   "cell_type": "code",
   "execution_count": 79,
   "id": "a70c455d",
   "metadata": {},
   "outputs": [
    {
     "name": "stdout",
     "output_type": "stream",
     "text": [
      "233.33333333333334\n",
      "466.6666666666667\n",
      "733.3333333333334\n",
      "1033.3333333333333\n"
     ]
    }
   ],
   "source": [
    "my_list = [100, 200, 400, 800, 1000, 1300]\n",
    "for l in range(0,len(my_list)-2):\n",
    "    print((my_list[l]+my_list[l+1]+my_list[l+2])/3)"
   ]
  },
  {
   "cell_type": "code",
   "execution_count": 80,
   "id": "8f7689be",
   "metadata": {},
   "outputs": [
    {
     "data": {
      "text/plain": [
       "[50, 100, 30, 80, 0]"
      ]
     },
     "execution_count": 80,
     "metadata": {},
     "output_type": "execute_result"
    }
   ],
   "source": [
    "low_prices  = [100, 200, 400, 800, 1000]\n",
    "high_prices = [150, 300, 430, 880, 1000]\n",
    "volatility = []\n",
    "for l in range(0,len(low_prices)):\n",
    "    volatility.append(high_prices[l]-low_prices[l])\n",
    "volatility"
   ]
  },
  {
   "cell_type": "code",
   "execution_count": 81,
   "id": "11220474",
   "metadata": {},
   "outputs": [
    {
     "data": {
      "text/plain": [
       "[['101호', '102호'], ['201호', '202호'], ['301호', '302호']]"
      ]
     },
     "execution_count": 81,
     "metadata": {},
     "output_type": "execute_result"
    }
   ],
   "source": [
    "apart = [\n",
    "    ['101호', '102호'],\n",
    "    ['201호', '202호'],\n",
    "    ['301호','302호']\n",
    "    \n",
    "]\n",
    "apart"
   ]
  },
  {
   "cell_type": "code",
   "execution_count": 82,
   "id": "1232c7a2",
   "metadata": {},
   "outputs": [
    {
     "data": {
      "text/plain": [
       "[['시가', 100, 200, 300], ['종가', 80, 210, 330]]"
      ]
     },
     "execution_count": 82,
     "metadata": {},
     "output_type": "execute_result"
    }
   ],
   "source": [
    "stock = [\n",
    "    [\"시가\", 100, 200, 300],\n",
    "    [\"종가\", 80, 210, 330] \n",
    "]\n",
    "stock"
   ]
  },
  {
   "cell_type": "code",
   "execution_count": 83,
   "id": "ee2d80db",
   "metadata": {},
   "outputs": [
    {
     "data": {
      "text/plain": [
       "{'시가': [100, 200, 300], '종가': [80, 210, 330]}"
      ]
     },
     "execution_count": 83,
     "metadata": {},
     "output_type": "execute_result"
    }
   ],
   "source": [
    "stock = {\n",
    "    '시가' : [100,200,300],\n",
    "    '종가' : [80,210,330]\n",
    "}\n",
    "stock"
   ]
  },
  {
   "cell_type": "code",
   "execution_count": 84,
   "id": "184432c3",
   "metadata": {},
   "outputs": [
    {
     "data": {
      "text/plain": [
       "{'10/10': [80, 110, 70, 90], '10/11': [210, 230, 190, 200]}"
      ]
     },
     "execution_count": 84,
     "metadata": {},
     "output_type": "execute_result"
    }
   ],
   "source": [
    "stock = {\n",
    "    '10/10' : [80,110,70,90],\n",
    "    '10/11' : [210,230,190,200]\n",
    "}\n",
    "stock"
   ]
  },
  {
   "cell_type": "code",
   "execution_count": 85,
   "id": "f726ed88",
   "metadata": {},
   "outputs": [
    {
     "name": "stdout",
     "output_type": "stream",
     "text": [
      "101 호 \n",
      "102 호 \n",
      "201 호 \n",
      "202 호 \n",
      "301 호 \n",
      "302 호 \n"
     ]
    }
   ],
   "source": [
    "apart = [ [101, 102], [201, 202], [301, 302] ]\n",
    "for l in range(len(apart)):\n",
    "    for m in range(len(apart[l])):\n",
    "        print(apart[l][m] ,\"호 \")"
   ]
  },
  {
   "cell_type": "code",
   "execution_count": 86,
   "id": "57eea2d6",
   "metadata": {},
   "outputs": [
    {
     "name": "stdout",
     "output_type": "stream",
     "text": [
      "301 호 \n",
      "302 호 \n",
      "201 호 \n",
      "202 호 \n",
      "101 호 \n",
      "102 호 \n"
     ]
    }
   ],
   "source": [
    "apart = [ [101, 102], [201, 202], [301, 302] ]\n",
    "for l in range(len(apart)-1,-1, -1):\n",
    "    for m in range(len(apart[l])):\n",
    "        print(apart[l][m] ,\"호 \")"
   ]
  },
  {
   "cell_type": "code",
   "execution_count": 87,
   "id": "f650f59c",
   "metadata": {},
   "outputs": [
    {
     "name": "stdout",
     "output_type": "stream",
     "text": [
      "302 호 \n",
      "301 호 \n",
      "202 호 \n",
      "201 호 \n",
      "102 호 \n",
      "101 호 \n"
     ]
    }
   ],
   "source": [
    "apart = [ [101, 102], [201, 202], [301, 302] ]\n",
    "for l in range(len(apart)-1,-1, -1):\n",
    "    for m in range(len(apart[l])-1,-1,-1):\n",
    "        print(apart[l][m] ,\"호 \")"
   ]
  },
  {
   "cell_type": "code",
   "execution_count": 88,
   "id": "7692addf",
   "metadata": {},
   "outputs": [
    {
     "name": "stdout",
     "output_type": "stream",
     "text": [
      "101 호 \n",
      "-----\n",
      "102 호 \n",
      "-----\n",
      "201 호 \n",
      "-----\n",
      "202 호 \n",
      "-----\n",
      "301 호 \n",
      "-----\n",
      "302 호 \n",
      "-----\n"
     ]
    }
   ],
   "source": [
    "apart = [ [101, 102], [201, 202], [301, 302] ]\n",
    "for l in range(len(apart)):\n",
    "    for m in range(len(apart[l])):\n",
    "        print(apart[l][m] ,\"호 \")\n",
    "        print('-----')"
   ]
  },
  {
   "cell_type": "code",
   "execution_count": 89,
   "id": "2253cd3d",
   "metadata": {},
   "outputs": [
    {
     "name": "stdout",
     "output_type": "stream",
     "text": [
      "101 호 \n",
      "102 호 \n",
      "----\n",
      "201 호 \n",
      "202 호 \n",
      "----\n",
      "301 호 \n",
      "302 호 \n",
      "----\n"
     ]
    }
   ],
   "source": [
    "apart = [ [101, 102], [201, 202], [301, 302] ]\n",
    "for l in range(len(apart)):\n",
    "    for m in range(len(apart[l])):\n",
    "        print(apart[l][m] ,\"호 \")\n",
    "    print('----')"
   ]
  },
  {
   "cell_type": "code",
   "execution_count": 90,
   "id": "ec07dfa1",
   "metadata": {},
   "outputs": [
    {
     "name": "stdout",
     "output_type": "stream",
     "text": [
      "101 호 \n",
      "102 호 \n",
      "201 호 \n",
      "202 호 \n",
      "301 호 \n",
      "302 호 \n",
      "----\n"
     ]
    }
   ],
   "source": [
    "apart = [ [101, 102], [201, 202], [301, 302] ]\n",
    "for l in range(len(apart)):\n",
    "    for m in range(len(apart[l])):\n",
    "        print(apart[l][m] ,\"호 \")\n",
    "print('----')\n",
    "    "
   ]
  },
  {
   "cell_type": "code",
   "execution_count": 91,
   "id": "7b3f9540",
   "metadata": {},
   "outputs": [
    {
     "name": "stdout",
     "output_type": "stream",
     "text": [
      "2000.28\n",
      "3050.427\n",
      "2050.287\n",
      "1980.2772\n",
      "7501.05\n",
      "2050.287\n",
      "2050.287\n",
      "1980.2772\n",
      "15452.163\n",
      "15052.107\n",
      "15552.177\n",
      "14902.086\n"
     ]
    }
   ],
   "source": [
    "data = [\n",
    "    [ 2000,  3050,  2050,  1980],\n",
    "    [ 7500,  2050,  2050,  1980],\n",
    "    [15450, 15050, 15550, 14900]\n",
    "]\n",
    "for l in range(len(data)):\n",
    "    for m in range(len(data[l])):\n",
    "        print(data[l][m] + data[l][m] * 0.00014)"
   ]
  },
  {
   "cell_type": "code",
   "execution_count": 92,
   "id": "aa647ba7",
   "metadata": {},
   "outputs": [
    {
     "name": "stdout",
     "output_type": "stream",
     "text": [
      "2000.28\n",
      "3050.427\n",
      "2050.287\n",
      "1980.2772\n",
      "----\n",
      "7501.05\n",
      "2050.287\n",
      "2050.287\n",
      "1980.2772\n",
      "----\n",
      "15452.163\n",
      "15052.107\n",
      "15552.177\n",
      "14902.086\n",
      "----\n"
     ]
    }
   ],
   "source": [
    "data = [\n",
    "    [ 2000,  3050,  2050,  1980],\n",
    "    [ 7500,  2050,  2050,  1980],\n",
    "    [15450, 15050, 15550, 14900]\n",
    "]\n",
    "for l in range(len(data)):\n",
    "    for m in range(len(data[l])):\n",
    "        print(data[l][m] + data[l][m] * 0.00014)\n",
    "    print('----')"
   ]
  },
  {
   "cell_type": "code",
   "execution_count": 93,
   "id": "aa3fbebd",
   "metadata": {},
   "outputs": [
    {
     "data": {
      "text/plain": [
       "[2000.28,\n",
       " 3050.427,\n",
       " 2050.287,\n",
       " 1980.2772,\n",
       " 7501.05,\n",
       " 2050.287,\n",
       " 2050.287,\n",
       " 1980.2772,\n",
       " 15452.163,\n",
       " 15052.107,\n",
       " 15552.177,\n",
       " 14902.086]"
      ]
     },
     "execution_count": 93,
     "metadata": {},
     "output_type": "execute_result"
    }
   ],
   "source": [
    "data = [\n",
    "    [ 2000,  3050,  2050,  1980],\n",
    "    [ 7500,  2050,  2050,  1980],\n",
    "    [15450, 15050, 15550, 14900]\n",
    "]\n",
    "result = []\n",
    "for l in range(len(data)):\n",
    "    for m in range(len(data[l])):\n",
    "        result.append(data[l][m] + data[l][m] * 0.00014)\n",
    "result"
   ]
  },
  {
   "cell_type": "code",
   "execution_count": 94,
   "id": "7679f337",
   "metadata": {},
   "outputs": [
    {
     "data": {
      "text/plain": [
       "[[2000.28, 3050.427, 2050.287, 1980.2772],\n",
       " [7501.05, 2050.287, 2050.287, 1980.2772],\n",
       " [15452.163, 15052.107, 15552.177, 14902.086]]"
      ]
     },
     "execution_count": 94,
     "metadata": {},
     "output_type": "execute_result"
    }
   ],
   "source": [
    "data = [\n",
    "    [ 2000,  3050,  2050,  1980],\n",
    "    [ 7500,  2050,  2050,  1980],\n",
    "    [15450, 15050, 15550, 14900]\n",
    "]\n",
    "result = []\n",
    "result1 = []\n",
    "for l in range(len(data)):\n",
    "    for m in range(len(data[l])):\n",
    "        result1.append(data[l][m] + data[l][m] * 0.00014)\n",
    "    result.append(result1)\n",
    "    result1 = []\n",
    "result"
   ]
  },
  {
   "cell_type": "code",
   "execution_count": 95,
   "id": "f5fa0e29",
   "metadata": {},
   "outputs": [
    {
     "name": "stdout",
     "output_type": "stream",
     "text": [
      "close\n",
      "100\n",
      "190\n",
      "310\n"
     ]
    }
   ],
   "source": [
    "ohlc = [[\"open\", \"high\", \"low\", \"close\"],\n",
    "        [100, 110, 70, 100],\n",
    "        [200, 210, 180, 190],\n",
    "        [300, 310, 300, 310]]\n",
    "for l in range(len(ohlc)):\n",
    "    print(ohlc[l][-1])"
   ]
  },
  {
   "cell_type": "code",
   "execution_count": 96,
   "id": "06d38cbe",
   "metadata": {},
   "outputs": [
    {
     "name": "stdout",
     "output_type": "stream",
     "text": [
      "190\n",
      "310\n"
     ]
    }
   ],
   "source": [
    "ohlc = [[\"open\", \"high\", \"low\", \"close\"],\n",
    "        [100, 110, 70, 100],\n",
    "        [200, 210, 180, 190],\n",
    "        [300, 310, 300, 310]]\n",
    "for l in range(len(ohlc)):\n",
    "    if l==0: continue\n",
    "    if int(ohlc[l][-1]) > 150:\n",
    "        print(ohlc[l][-1])"
   ]
  },
  {
   "cell_type": "code",
   "execution_count": 97,
   "id": "ef115d4e",
   "metadata": {},
   "outputs": [
    {
     "name": "stdout",
     "output_type": "stream",
     "text": [
      "100\n",
      "310\n"
     ]
    }
   ],
   "source": [
    "ohlc = [[\"open\", \"high\", \"low\", \"close\"],\n",
    "        [100, 110, 70, 100],\n",
    "        [200, 210, 180, 190],\n",
    "        [300, 310, 300, 310]]\n",
    "for l in range(len(ohlc)):\n",
    "    if l==0: continue\n",
    "    if int(ohlc[l][-1]) >=  ohlc[l][0]:\n",
    "        print(ohlc[l][-1])"
   ]
  },
  {
   "cell_type": "code",
   "execution_count": 98,
   "id": "032b5dd7",
   "metadata": {},
   "outputs": [
    {
     "data": {
      "text/plain": [
       "[40, 30, 10]"
      ]
     },
     "execution_count": 98,
     "metadata": {},
     "output_type": "execute_result"
    }
   ],
   "source": [
    "ohlc = [[\"open\", \"high\", \"low\", \"close\"],\n",
    "        [100, 110, 70, 100],\n",
    "        [200, 210, 180, 190],\n",
    "        [300, 310, 300, 310]]\n",
    "volatility = []\n",
    "for l in range(len(ohlc)):\n",
    "    if l==0: continue\n",
    "    volatility.append(ohlc[l][1] - ohlc[l][2])\n",
    "volatility"
   ]
  },
  {
   "cell_type": "code",
   "execution_count": 99,
   "id": "297c6aa3",
   "metadata": {},
   "outputs": [
    {
     "name": "stdout",
     "output_type": "stream",
     "text": [
      "10\n"
     ]
    }
   ],
   "source": [
    "ohlc = [[\"open\", \"high\", \"low\", \"close\"],\n",
    "        [100, 110, 70, 100],\n",
    "        [200, 210, 180, 190],\n",
    "        [300, 310, 300, 310]]\n",
    "\n",
    "for l in range(len(ohlc)):\n",
    "    if l==0: continue\n",
    "    if ohlc[l][-1] >  ohlc[l][0]:\n",
    "        print(ohlc[l][1] - ohlc[l][2])"
   ]
  },
  {
   "cell_type": "code",
   "execution_count": 100,
   "id": "1d8c09b4",
   "metadata": {},
   "outputs": [
    {
     "name": "stdout",
     "output_type": "stream",
     "text": [
      "0\n"
     ]
    }
   ],
   "source": [
    "ohlc = [[\"open\", \"high\", \"low\", \"close\"],\n",
    "        [100, 110, 70, 100],\n",
    "        [200, 210, 180, 190],\n",
    "        [300, 310, 300, 310]]\n",
    "num = 0\n",
    "for l in range(len(ohlc)):\n",
    "    if l==0: continue\n",
    "    num += (ohlc[l][0] - ohlc[l][-1])\n",
    "print(num)"
   ]
  },
  {
   "cell_type": "code",
   "execution_count": null,
   "id": "b149a04b",
   "metadata": {},
   "outputs": [],
   "source": []
  }
 ],
 "metadata": {
  "kernelspec": {
   "display_name": "Python 3 (ipykernel)",
   "language": "python",
   "name": "python3"
  },
  "language_info": {
   "codemirror_mode": {
    "name": "ipython",
    "version": 3
   },
   "file_extension": ".py",
   "mimetype": "text/x-python",
   "name": "python",
   "nbconvert_exporter": "python",
   "pygments_lexer": "ipython3",
   "version": "3.11.5"
  },
  "toc": {
   "base_numbering": 1,
   "nav_menu": {},
   "number_sections": true,
   "sideBar": true,
   "skip_h1_title": false,
   "title_cell": "Table of Contents",
   "title_sidebar": "Contents",
   "toc_cell": true,
   "toc_position": {},
   "toc_section_display": true,
   "toc_window_display": true
  }
 },
 "nbformat": 4,
 "nbformat_minor": 5
}
