{
 "cells": [
  {
   "cell_type": "markdown",
   "id": "1bfcf282",
   "metadata": {
    "toc": true
   },
   "source": [
    "<h1>Table of Contents<span class=\"tocSkip\"></span></h1>\n",
    "<div class=\"toc\"><ul class=\"toc-item\"><li><span><a href=\"#정수형\" data-toc-modified-id=\"정수형-1\"><span class=\"toc-item-num\">1&nbsp;&nbsp;</span>정수형</a></span></li><li><span><a href=\"#실수형\" data-toc-modified-id=\"실수형-2\"><span class=\"toc-item-num\">2&nbsp;&nbsp;</span>실수형</a></span></li><li><span><a href=\"#사칙연산\" data-toc-modified-id=\"사칙연산-3\"><span class=\"toc-item-num\">3&nbsp;&nbsp;</span>사칙연산</a></span></li><li><span><a href=\"#문자열\" data-toc-modified-id=\"문자열-4\"><span class=\"toc-item-num\">4&nbsp;&nbsp;</span>문자열</a></span><ul class=\"toc-item\"><li><span><a href=\"#문자열-연산하기\" data-toc-modified-id=\"문자열-연산하기-4.1\"><span class=\"toc-item-num\">4.1&nbsp;&nbsp;</span>문자열 연산하기</a></span></li></ul></li></ul></div>"
   ]
  },
  {
   "cell_type": "markdown",
   "id": "f0ef0f8f",
   "metadata": {},
   "source": [
    "# 정수형"
   ]
  },
  {
   "cell_type": "code",
   "execution_count": 2,
   "id": "3520c111",
   "metadata": {},
   "outputs": [
    {
     "data": {
      "text/plain": [
       "3"
      ]
     },
     "execution_count": 2,
     "metadata": {},
     "output_type": "execute_result"
    }
   ],
   "source": [
    "a = 3\n",
    "a"
   ]
  },
  {
   "cell_type": "markdown",
   "id": "c717f34e",
   "metadata": {},
   "source": [
    "# 실수형"
   ]
  },
  {
   "cell_type": "code",
   "execution_count": 4,
   "id": "8ba5b1e9",
   "metadata": {},
   "outputs": [
    {
     "data": {
      "text/plain": [
       "1.2"
      ]
     },
     "execution_count": 4,
     "metadata": {},
     "output_type": "execute_result"
    }
   ],
   "source": [
    "a = 1.2\n",
    "a"
   ]
  },
  {
   "cell_type": "code",
   "execution_count": 6,
   "id": "94801e1f",
   "metadata": {},
   "outputs": [
    {
     "data": {
      "text/plain": [
       "-3.45"
      ]
     },
     "execution_count": 6,
     "metadata": {},
     "output_type": "execute_result"
    }
   ],
   "source": [
    "a = -3.45\n",
    "a"
   ]
  },
  {
   "cell_type": "code",
   "execution_count": 7,
   "id": "8e6127b4",
   "metadata": {},
   "outputs": [
    {
     "data": {
      "text/plain": [
       "42400000000.0"
      ]
     },
     "execution_count": 7,
     "metadata": {},
     "output_type": "execute_result"
    }
   ],
   "source": [
    "a = 4.24E10\n",
    "a"
   ]
  },
  {
   "cell_type": "code",
   "execution_count": 9,
   "id": "4a4b339b",
   "metadata": {},
   "outputs": [
    {
     "data": {
      "text/plain": [
       "0.334"
      ]
     },
     "execution_count": 9,
     "metadata": {},
     "output_type": "execute_result"
    }
   ],
   "source": [
    "a = 3.34E-1\n",
    "a"
   ]
  },
  {
   "cell_type": "markdown",
   "id": "991d90cf",
   "metadata": {},
   "source": [
    "2진수: 0b  \n",
    "8진수: 0o  \n",
    "16진수: 0x  \n",
    "라고 합니다"
   ]
  },
  {
   "cell_type": "code",
   "execution_count": 12,
   "id": "8fe23a23",
   "metadata": {},
   "outputs": [
    {
     "data": {
      "text/plain": [
       "87"
      ]
     },
     "execution_count": 12,
     "metadata": {},
     "output_type": "execute_result"
    }
   ],
   "source": [
    "a = 0o127 #8진수\n",
    "a"
   ]
  },
  {
   "cell_type": "code",
   "execution_count": 13,
   "id": "91be4701",
   "metadata": {},
   "outputs": [
    {
     "data": {
      "text/plain": [
       "int"
      ]
     },
     "execution_count": 13,
     "metadata": {},
     "output_type": "execute_result"
    }
   ],
   "source": [
    "type(a)"
   ]
  },
  {
   "cell_type": "code",
   "execution_count": 14,
   "id": "b8a8271e",
   "metadata": {},
   "outputs": [
    {
     "data": {
      "text/plain": [
       "2303"
      ]
     },
     "execution_count": 14,
     "metadata": {},
     "output_type": "execute_result"
    }
   ],
   "source": [
    "a = 0x8ff #16진수\n",
    "a"
   ]
  },
  {
   "cell_type": "markdown",
   "id": "510135f0",
   "metadata": {},
   "source": [
    "# 사칙연산"
   ]
  },
  {
   "cell_type": "code",
   "execution_count": 15,
   "id": "3e1af587",
   "metadata": {},
   "outputs": [
    {
     "data": {
      "text/plain": [
       "7"
      ]
     },
     "execution_count": 15,
     "metadata": {},
     "output_type": "execute_result"
    }
   ],
   "source": [
    "a = 3\n",
    "b = 4\n",
    "a+b"
   ]
  },
  {
   "cell_type": "code",
   "execution_count": 16,
   "id": "4c0d1809",
   "metadata": {},
   "outputs": [
    {
     "data": {
      "text/plain": [
       "12"
      ]
     },
     "execution_count": 16,
     "metadata": {},
     "output_type": "execute_result"
    }
   ],
   "source": [
    "a*b"
   ]
  },
  {
   "cell_type": "code",
   "execution_count": 17,
   "id": "6533034f",
   "metadata": {},
   "outputs": [
    {
     "data": {
      "text/plain": [
       "0.75"
      ]
     },
     "execution_count": 17,
     "metadata": {},
     "output_type": "execute_result"
    }
   ],
   "source": [
    "a/b"
   ]
  },
  {
   "cell_type": "code",
   "execution_count": 18,
   "id": "c51b057a",
   "metadata": {},
   "outputs": [
    {
     "data": {
      "text/plain": [
       "3"
      ]
     },
     "execution_count": 18,
     "metadata": {},
     "output_type": "execute_result"
    }
   ],
   "source": [
    "a%b # 나머지 반환"
   ]
  },
  {
   "cell_type": "code",
   "execution_count": 21,
   "id": "c2e162e8",
   "metadata": {},
   "outputs": [
    {
     "data": {
      "text/plain": [
       "0"
      ]
     },
     "execution_count": 21,
     "metadata": {},
     "output_type": "execute_result"
    }
   ],
   "source": [
    "a//b # 몫 반환"
   ]
  },
  {
   "cell_type": "code",
   "execution_count": 19,
   "id": "6e088806",
   "metadata": {},
   "outputs": [
    {
     "data": {
      "text/plain": [
       "81"
      ]
     },
     "execution_count": 19,
     "metadata": {},
     "output_type": "execute_result"
    }
   ],
   "source": [
    "a**b"
   ]
  },
  {
   "cell_type": "markdown",
   "id": "59b2ba81",
   "metadata": {},
   "source": [
    "# 문자열"
   ]
  },
  {
   "cell_type": "code",
   "execution_count": 22,
   "id": "795b6b69",
   "metadata": {},
   "outputs": [
    {
     "data": {
      "text/plain": [
       "'Hello World'"
      ]
     },
     "execution_count": 22,
     "metadata": {},
     "output_type": "execute_result"
    }
   ],
   "source": [
    "\"Hello World\""
   ]
  },
  {
   "cell_type": "code",
   "execution_count": 23,
   "id": "a1371052",
   "metadata": {},
   "outputs": [
    {
     "data": {
      "text/plain": [
       "'Halo'"
      ]
     },
     "execution_count": 23,
     "metadata": {},
     "output_type": "execute_result"
    }
   ],
   "source": [
    "'Halo'"
   ]
  },
  {
   "cell_type": "code",
   "execution_count": 33,
   "id": "8ea52eb0",
   "metadata": {},
   "outputs": [
    {
     "name": "stdout",
     "output_type": "stream",
     "text": [
      "문장 안에 \"따옴표를 넣는 방법\"이 이렇게 쉽다구?!\n"
     ]
    }
   ],
   "source": [
    "print('문장 안에 \"따옴표를 넣는 방법\"이 이렇게 쉽다구?!')"
   ]
  },
  {
   "cell_type": "code",
   "execution_count": 29,
   "id": "3ff453b9",
   "metadata": {},
   "outputs": [],
   "source": [
    "a = \"\"\"Life is egg\"\"\""
   ]
  },
  {
   "cell_type": "code",
   "execution_count": 30,
   "id": "0782501f",
   "metadata": {},
   "outputs": [
    {
     "name": "stdout",
     "output_type": "stream",
     "text": [
      "Life is egg\n"
     ]
    }
   ],
   "source": [
    "print(a)"
   ]
  },
  {
   "cell_type": "code",
   "execution_count": 34,
   "id": "fff1e802",
   "metadata": {},
   "outputs": [
    {
     "name": "stdout",
     "output_type": "stream",
     "text": [
      "\"배고픈\"수강생\n"
     ]
    }
   ],
   "source": [
    "print('\\\"배고픈\\\"수강생')"
   ]
  },
  {
   "cell_type": "code",
   "execution_count": 35,
   "id": "43ca8842",
   "metadata": {},
   "outputs": [
    {
     "data": {
      "text/plain": [
       "'현재 시각은 오전 11시 42분으로,\\n8분 뒤부터 점심시간입니다.'"
      ]
     },
     "execution_count": 35,
     "metadata": {},
     "output_type": "execute_result"
    }
   ],
   "source": [
    "\"현재 시각은 오전 11시 42분으로,\\n8분 뒤부터 점심시간입니다.\""
   ]
  },
  {
   "cell_type": "code",
   "execution_count": 36,
   "id": "9e36bada",
   "metadata": {},
   "outputs": [
    {
     "name": "stdout",
     "output_type": "stream",
     "text": [
      "현재 시각은 오전 11시 42분으로,\n",
      "8분 뒤부터 점심시간입니다.\n"
     ]
    }
   ],
   "source": [
    "print(\"현재 시각은 오전 11시 42분으로,\\n8분 뒤부터 점심시간입니다.\")"
   ]
  },
  {
   "cell_type": "markdown",
   "id": "26f19df9",
   "metadata": {},
   "source": [
    "## 문자열 연산하기"
   ]
  },
  {
   "cell_type": "code",
   "execution_count": null,
   "id": "92e01035",
   "metadata": {},
   "outputs": [],
   "source": []
  }
 ],
 "metadata": {
  "kernelspec": {
   "display_name": "Python 3 (ipykernel)",
   "language": "python",
   "name": "python3"
  },
  "language_info": {
   "codemirror_mode": {
    "name": "ipython",
    "version": 3
   },
   "file_extension": ".py",
   "mimetype": "text/x-python",
   "name": "python",
   "nbconvert_exporter": "python",
   "pygments_lexer": "ipython3",
   "version": "3.11.5"
  },
  "toc": {
   "base_numbering": 1,
   "nav_menu": {},
   "number_sections": true,
   "sideBar": true,
   "skip_h1_title": false,
   "title_cell": "Table of Contents",
   "title_sidebar": "Contents",
   "toc_cell": true,
   "toc_position": {
    "height": "calc(100% - 180px)",
    "left": "10px",
    "top": "150px",
    "width": "191.391px"
   },
   "toc_section_display": true,
   "toc_window_display": true
  }
 },
 "nbformat": 4,
 "nbformat_minor": 5
}
