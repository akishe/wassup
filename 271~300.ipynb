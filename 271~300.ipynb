{
 "cells": [
  {
   "cell_type": "markdown",
   "id": "3da881b7",
   "metadata": {
    "toc": true
   },
   "source": [
    "<h1>Table of Contents<span class=\"tocSkip\"></span></h1>\n",
    "<div class=\"toc\"><ul class=\"toc-item\"></ul></div>"
   ]
  },
  {
   "cell_type": "code",
   "execution_count": 1,
   "id": "0ce4f11f",
   "metadata": {},
   "outputs": [
    {
     "name": "stdout",
     "output_type": "stream",
     "text": [
      "김민수\n",
      "100\n",
      "SC은행\n",
      "906-54-638282\n"
     ]
    }
   ],
   "source": [
    "import random\n",
    "\n",
    "class Account:\n",
    "    def __init__(self,name,init):\n",
    "        self.name = name\n",
    "        self.init = init\n",
    "        self.bank = \"SC은행\"\n",
    "        \n",
    "        num1 = random.randint(0,999)\n",
    "        num2 = random.randint(0,99)\n",
    "        num3 = random.randint(0,999999)\n",
    "        \n",
    "        num1 = str(num1).zfill(3)\n",
    "        num2 = str(num2).zfill(2)\n",
    "        num3 = str(num3).zfill(6)\n",
    "        \n",
    "        self.number = '-'.join([num1,num2,num3])\n",
    "        \n",
    "kim = Account(\"김민수\", 100)\n",
    "print(kim.name)\n",
    "print(kim.init)\n",
    "print(kim.bank)\n",
    "print(kim.number)"
   ]
  },
  {
   "cell_type": "code",
   "execution_count": 2,
   "id": "2011f905",
   "metadata": {},
   "outputs": [
    {
     "name": "stdout",
     "output_type": "stream",
     "text": [
      "1\n",
      "2\n"
     ]
    }
   ],
   "source": [
    "import random\n",
    "\n",
    "class Account:\n",
    "    \n",
    "    account_acount = 0\n",
    "    def __init__(self,name,init):\n",
    "        self.name = name\n",
    "        self.init = init\n",
    "        self.bank = \"SC은행\"\n",
    "        \n",
    "        num1 = random.randint(0,999)\n",
    "        num2 = random.randint(0,99)\n",
    "        num3 = random.randint(0,999999)\n",
    "        \n",
    "        num1 = str(num1).zfill(3)\n",
    "        num2 = str(num2).zfill(2)\n",
    "        num3 = str(num3).zfill(6)\n",
    "        \n",
    "        self.number = '-'.join([num1,num2,num3])\n",
    "        Account.account_acount += 1\n",
    "        \n",
    "kim = Account(\"김민수\", 100)\n",
    "print(Account.account_acount)\n",
    "lee = Account(\"이민수\", 100)\n",
    "print(Account.account_acount)"
   ]
  },
  {
   "cell_type": "code",
   "execution_count": 3,
   "id": "71058ab0",
   "metadata": {},
   "outputs": [
    {
     "name": "stdout",
     "output_type": "stream",
     "text": [
      "3\n"
     ]
    }
   ],
   "source": [
    "class Account(Account):\n",
    "    \n",
    "    account_acount = 0\n",
    "    def __init__(self,name,init):\n",
    "        self.name = name\n",
    "        self.init = init\n",
    "        self.bank = \"SC은행\"\n",
    "        \n",
    "        num1 = random.randint(0,999)\n",
    "        num2 = random.randint(0,99)\n",
    "        num3 = random.randint(0,999999)\n",
    "        \n",
    "        num1 = str(num1).zfill(3)\n",
    "        num2 = str(num2).zfill(2)\n",
    "        num3 = str(num3).zfill(6)\n",
    "        \n",
    "        self.number = '-'.join([num1,num2,num3])\n",
    "        Account.account_acount += 1\n",
    "    \n",
    "    def get_account_num():\n",
    "        print(Account.account_acount)\n",
    "        \n",
    "kim = Account(\"김민수\", 100)\n",
    "pak = Account(\"박민수\", 100)\n",
    "lee = Account(\"이민수\", 100)\n",
    "Account.get_account_num()"
   ]
  },
  {
   "cell_type": "code",
   "execution_count": 4,
   "id": "eaf00b0d",
   "metadata": {},
   "outputs": [
    {
     "name": "stdout",
     "output_type": "stream",
     "text": [
      "현재 금액은 200입니다.\n",
      "현재 금액은 300입니다.\n"
     ]
    }
   ],
   "source": [
    "class Account:\n",
    "    \n",
    "    account_acount = 0\n",
    "    def __init__(self,name,init):\n",
    "        self.name = name\n",
    "        self.init = init\n",
    "        self.bank = \"SC은행\"\n",
    "        self.current = 0 \n",
    "        \n",
    "        num1 = random.randint(0,999)\n",
    "        num2 = random.randint(0,99)\n",
    "        num3 = random.randint(0,999999)\n",
    "        \n",
    "        num1 = str(num1).zfill(3)\n",
    "        num2 = str(num2).zfill(2)\n",
    "        num3 = str(num3).zfill(6)\n",
    "        \n",
    "        self.number = '-'.join([num1,num2,num3])\n",
    "        Account.account_acount += 1\n",
    "    \n",
    "    def get_account_num():\n",
    "        print(Account.account_acount)\n",
    "        \n",
    "    def deposit(self,add):\n",
    "        if add > 0:\n",
    "            self.current = self.init + add\n",
    "            print(f'현재 금액은 {self.current}입니다.')\n",
    "            self.init = self.current\n",
    "        else:\n",
    "            print('입금할 수 없습니다')\n",
    "\n",
    "kim = Account(\"김민수\", 100)\n",
    "kim.deposit(100)\n",
    "kim.deposit(100)"
   ]
  },
  {
   "cell_type": "code",
   "execution_count": 5,
   "id": "17cacaca",
   "metadata": {},
   "outputs": [
    {
     "name": "stdout",
     "output_type": "stream",
     "text": [
      "현재 금액은 200입니다.\n",
      "현재 금액은 300입니다.\n",
      "출금할 수 없습니다\n",
      "현재 출금하신 금액은 100입니다.\n",
      "현재 금액은 200입니다.\n"
     ]
    }
   ],
   "source": [
    "class Account(Account):\n",
    "    \n",
    "    def withdraw(self,minus):\n",
    "        \n",
    "        if minus > self.init:\n",
    "            print('출금할 수 없습니다')\n",
    "        else:\n",
    "            print(f'현재 출금하신 금액은 {minus}입니다.')\n",
    "            self.current = self.current - minus\n",
    "            print(f'현재 금액은 {self.current}입니다.')\n",
    "            self.init = self.current\n",
    "kim = Account(\"김민수\", 100)\n",
    "\n",
    "kim.deposit(100)\n",
    "kim.deposit(100)\n",
    "kim.withdraw(500)\n",
    "kim.withdraw(100)"
   ]
  },
  {
   "cell_type": "code",
   "execution_count": 6,
   "id": "373254b0",
   "metadata": {},
   "outputs": [
    {
     "name": "stdout",
     "output_type": "stream",
     "text": [
      "현재 금액은 200입니다.\n",
      "현재 금액은 300입니다.\n",
      "은행이름 SC은행\n",
      "예금주 김민수\n",
      "계좌번호 740-48-439514\n",
      "잔고 300\n"
     ]
    }
   ],
   "source": [
    "class Account(Account):\n",
    "    def display_info(self):\n",
    "        print(\"은행이름\", self.bank)\n",
    "        print(\"예금주\",self.name)\n",
    "        print(\"계좌번호\",self.number)\n",
    "        print(\"잔고\",self.current)\n",
    "        \n",
    "kim = Account(\"김민수\", 100)\n",
    "\n",
    "kim.deposit(100)\n",
    "kim.deposit(100)\n",
    "kim.display_info()"
   ]
  },
  {
   "cell_type": "code",
   "execution_count": 7,
   "id": "de1b000f",
   "metadata": {},
   "outputs": [
    {
     "name": "stdout",
     "output_type": "stream",
     "text": [
      "현재 금액은 200입니다.\n",
      "1\n",
      "현재 금액은 300입니다.\n",
      "2\n",
      "현재 금액은 400입니다.\n",
      "3\n",
      "현재 금액은 500입니다.\n",
      "4\n",
      "현재 금액은 600입니다.\n",
      "5\n",
      "6.0600000000000005 만큼 이자가 추가되었습니다\n",
      "현재 금액은 606.0입니다.\n"
     ]
    }
   ],
   "source": [
    "class Account(Account):\n",
    "    deposit_count = 0\n",
    "    def deposit(self,add):\n",
    "\n",
    "        if add > 0:\n",
    "            self.current = self.init + add\n",
    "            print(f'현재 금액은 {self.current}입니다.')\n",
    "            self.init = self.current\n",
    "            self.deposit_count += 1\n",
    "        else:\n",
    "            print('입금할 수 없습니다')\n",
    "        print(self.deposit_count)\n",
    "            \n",
    "        if self.deposit_count ==5:\n",
    "            self.current = self.current + self.current * 0.01\n",
    "            print(f'{self.current * 0.01} 만큼 이자가 추가되었습니다')\n",
    "            print(f'현재 금액은 {self.current}입니다.')\n",
    "            self.deposit_count = 0 \n",
    "\n",
    "kim = Account(\"김민수\", 100)\n",
    "\n",
    "kim.deposit(100)\n",
    "kim.deposit(100)\n",
    "kim.deposit(100)\n",
    "kim.deposit(100)\n",
    "kim.deposit(100)\n"
   ]
  },
  {
   "cell_type": "code",
   "execution_count": 8,
   "id": "345e9692",
   "metadata": {},
   "outputs": [
    {
     "name": "stdout",
     "output_type": "stream",
     "text": [
      "[<__main__.Account object at 0x000001D78EA20350>, <__main__.Account object at 0x000001D78E985650>, <__main__.Account object at 0x000001D78EA27ED0>]\n"
     ]
    }
   ],
   "source": [
    "kim = Account(\"김민수\", 100)\n",
    "pak = Account(\"박민수\", 100)\n",
    "lee = Account(\"이민수\", 100)\n",
    "\n",
    "data = []\n",
    "data.append(kim)\n",
    "data.append(pak)\n",
    "data.append(lee)\n",
    "\n",
    "print(data)"
   ]
  },
  {
   "cell_type": "code",
   "execution_count": 9,
   "id": "beb00347",
   "metadata": {},
   "outputs": [
    {
     "name": "stdout",
     "output_type": "stream",
     "text": [
      "은행이름 SC은행\n",
      "예금주 김민수\n",
      "계좌번호 600-03-343963\n",
      "잔고 0\n",
      "None\n",
      "은행이름 SC은행\n",
      "예금주 박민수\n",
      "계좌번호 137-40-874421\n",
      "잔고 0\n",
      "None\n",
      "은행이름 SC은행\n",
      "예금주 이민수\n",
      "계좌번호 636-45-622688\n",
      "잔고 0\n",
      "None\n"
     ]
    }
   ],
   "source": [
    "for customer in data:\n",
    "    if customer.init > 50:\n",
    "        print(customer.display_info())"
   ]
  },
  {
   "cell_type": "code",
   "execution_count": 10,
   "id": "120a5f48",
   "metadata": {},
   "outputs": [
    {
     "name": "stdout",
     "output_type": "stream",
     "text": [
      "현재 금액은 1100입니다.\n",
      "현재 금액은 1300입니다.\n",
      "현재 금액은 1600입니다.\n",
      "입금 금액 100\n",
      "입금 금액 200\n",
      "입금 금액 300\n",
      "현재 출금하신 금액은 100입니다.\n",
      "현재 금액은 1500입니다.\n",
      "현재 출금하신 금액은 200입니다.\n",
      "현재 금액은 1300입니다.\n",
      "출금 금액 100\n",
      "출금 금액 200\n"
     ]
    }
   ],
   "source": [
    "class Account(Account):  \n",
    "    \n",
    "    def __init__(self,name,init):\n",
    "        self.name = name\n",
    "        self.init = init\n",
    "        self.bank = \"SC은행\"\n",
    "        self.current = 0 \n",
    "        self.deposit_log = []\n",
    "        self.withdraw_log = []\n",
    "        \n",
    "        num1 = random.randint(0,999)\n",
    "        num2 = random.randint(0,99)\n",
    "        num3 = random.randint(0,999999)\n",
    "        \n",
    "        num1 = str(num1).zfill(3)\n",
    "        num2 = str(num2).zfill(2)\n",
    "        num3 = str(num3).zfill(6)\n",
    "        \n",
    "        self.number = '-'.join([num1,num2,num3])\n",
    "        Account.account_acount += 1\n",
    "    \n",
    "    def withdraw(self,minus):\n",
    "        \n",
    "        if minus > self.init:\n",
    "            print('출금할 수 없습니다')\n",
    "        else:\n",
    "            self.withdraw_log.append(minus)\n",
    "            print(f'현재 출금하신 금액은 {minus}입니다.')\n",
    "            self.current = self.current - minus\n",
    "            print(f'현재 금액은 {self.current}입니다.')\n",
    "            self.init = self.current\n",
    "    \n",
    "    def deposit(self,add):\n",
    "        if add > 0:\n",
    "            self.deposit_log.append(add)\n",
    "            self.current = self.init + add\n",
    "            print(f'현재 금액은 {self.current}입니다.')\n",
    "            self.init = self.current\n",
    "        else:\n",
    "            print('입금할 수 없습니다')\n",
    "\n",
    "            \n",
    "    def withdraw_history(self):\n",
    "        for amount in self.withdraw_log:\n",
    "            print(\"출금 금액\",amount)\n",
    "\n",
    "    def deposit_history(self):\n",
    "        for amount in self.deposit_log:\n",
    "            print(\"입금 금액\",amount)\n",
    "            \n",
    "k = Account(\"Kim\", 1000)\n",
    "k.deposit(100)\n",
    "k.deposit(200)\n",
    "k.deposit(300)\n",
    "k.deposit_history()\n",
    "\n",
    "k.withdraw(100)\n",
    "k.withdraw(200)\n",
    "k.withdraw_history()"
   ]
  },
  {
   "cell_type": "code",
   "execution_count": 11,
   "id": "a41d5e20",
   "metadata": {},
   "outputs": [
    {
     "name": "stdout",
     "output_type": "stream",
     "text": [
      "2\n",
      "100\n"
     ]
    }
   ],
   "source": [
    "class Car:\n",
    "    def __init__(self,wheel,price):\n",
    "        self.wheel = wheel\n",
    "        self.price = price\n",
    "car = Car(2,100)\n",
    "print(car.wheel)\n",
    "print(car.price)"
   ]
  },
  {
   "cell_type": "code",
   "execution_count": 12,
   "id": "30a1f430",
   "metadata": {},
   "outputs": [],
   "source": [
    "class Bike(Car):\n",
    "    pass\n"
   ]
  },
  {
   "cell_type": "code",
   "execution_count": 13,
   "id": "1e535b97",
   "metadata": {},
   "outputs": [
    {
     "data": {
      "text/plain": [
       "100"
      ]
     },
     "execution_count": 13,
     "metadata": {},
     "output_type": "execute_result"
    }
   ],
   "source": [
    "class Bike(Car):\n",
    "    pass\n",
    "bicycle = Bike(2,100)\n",
    "bicycle.price"
   ]
  },
  {
   "cell_type": "code",
   "execution_count": 14,
   "id": "37da2afc",
   "metadata": {},
   "outputs": [
    {
     "data": {
      "text/plain": [
       "'simano'"
      ]
     },
     "execution_count": 14,
     "metadata": {},
     "output_type": "execute_result"
    }
   ],
   "source": [
    "class Bike(Car):\n",
    "    \n",
    "    def __init__(self,wheel,price,system):\n",
    "        super().__init__(wheel,price)\n",
    "        self.system = system\n",
    "        \n",
    "bicycle = Bike(2,100,'simano')\n",
    "bicycle.system"
   ]
  },
  {
   "cell_type": "code",
   "execution_count": 15,
   "id": "c0bd9b16",
   "metadata": {},
   "outputs": [
    {
     "name": "stdout",
     "output_type": "stream",
     "text": [
      "바퀴수: 4\n",
      "가격: 1000\n"
     ]
    }
   ],
   "source": [
    "class 자동차(Car):\n",
    "    def 정보(self):\n",
    "        print(f'바퀴수: {self.wheel}\\n가격: {self.price}')\n",
    "        \n",
    "car = 자동차(4, 1000)\n",
    "car.정보()"
   ]
  },
  {
   "cell_type": "code",
   "execution_count": 16,
   "id": "0b7581a8",
   "metadata": {},
   "outputs": [
    {
     "name": "stdout",
     "output_type": "stream",
     "text": [
      "바퀴수: 2\n",
      "가격: 100\n",
      "구동계 : 시마노\n"
     ]
    }
   ],
   "source": [
    "class 자전차(자동차):\n",
    "    \n",
    "    def __init__(self,wheel,price,system):\n",
    "        super().__init__(wheel,price)\n",
    "        self.system = system\n",
    "\n",
    "    def 정보(self):\n",
    "        super().정보()\n",
    "        print(f'구동계 : {self.system}')\n",
    "\n",
    "bicycle = 자전차(2, 100, \"시마노\")\n",
    "bicycle.정보()\n"
   ]
  },
  {
   "cell_type": "code",
   "execution_count": 17,
   "id": "acc6e1d4",
   "metadata": {},
   "outputs": [
    {
     "name": "stdout",
     "output_type": "stream",
     "text": [
      "바퀴수: 2\n",
      "가격: 100\n",
      "구동계 : 시마노\n"
     ]
    }
   ],
   "source": [
    "class 자전차(Bike):\n",
    "    def 정보(self):\n",
    "        print(f'바퀴수: {self.wheel}\\n가격: {self.price}\\n구동계 : {self.system}')\n",
    "\n",
    "bicycle = 자전차(2, 100, \"시마노\")\n",
    "bicycle.정보()"
   ]
  },
  {
   "cell_type": "code",
   "execution_count": 18,
   "id": "161eefec",
   "metadata": {},
   "outputs": [
    {
     "name": "stdout",
     "output_type": "stream",
     "text": [
      "자식호출\n"
     ]
    }
   ],
   "source": [
    "class 부모:\n",
    "  def 호출(self):\n",
    "    print(\"부모호출\")\n",
    "\n",
    "class 자식(부모):\n",
    "  def 호출(self):\n",
    "    print(\"자식호출\")\n",
    "나 = 자식()\n",
    "나.호출()"
   ]
  },
  {
   "cell_type": "code",
   "execution_count": 19,
   "id": "815917c8",
   "metadata": {},
   "outputs": [
    {
     "name": "stdout",
     "output_type": "stream",
     "text": [
      "자식생성\n"
     ]
    }
   ],
   "source": [
    "class 부모:\n",
    "  def __init__(self):\n",
    "    print(\"부모생성\")\n",
    "\n",
    "class 자식(부모):\n",
    "  def __init__(self):\n",
    "    print(\"자식생성\")\n",
    "나 = 자식()"
   ]
  },
  {
   "cell_type": "code",
   "execution_count": 20,
   "id": "fe081047",
   "metadata": {},
   "outputs": [
    {
     "name": "stdout",
     "output_type": "stream",
     "text": [
      "자식생성\n",
      "부모생성\n"
     ]
    }
   ],
   "source": [
    "class 부모:\n",
    "  def __init__(self):\n",
    "    print(\"부모생성\")\n",
    "\n",
    "class 자식(부모):\n",
    "  def __init__(self):\n",
    "    print(\"자식생성\")\n",
    "    super().__init__()\n",
    "\n",
    "나 = 자식()"
   ]
  },
  {
   "cell_type": "code",
   "execution_count": 21,
   "id": "471718e9",
   "metadata": {},
   "outputs": [],
   "source": [
    "with open ('C:\\\\workspace\\\\매수종목1.txt','w') as f:\n",
    "    f.write('005930\\n005380\\n035420')"
   ]
  },
  {
   "cell_type": "code",
   "execution_count": 22,
   "id": "4cff73d2",
   "metadata": {},
   "outputs": [],
   "source": [
    "with open ('C:\\\\workspace\\\\매수종목2.txt','w') as f:\n",
    "    f.write('005930 삼성전자\\n005380 현대차\\n035420 NAVER')"
   ]
  },
  {
   "cell_type": "code",
   "execution_count": 23,
   "id": "5aa87d7c",
   "metadata": {},
   "outputs": [],
   "source": [
    "import csv\n",
    "\n",
    "with open ('C:\\\\workspace\\\\매수종목1.csv','w',encoding = 'cp949',newline = '') as f:\n",
    "    writer = csv.writer(f)\n",
    "    writer.writerow(['종목명','종목코드','PER'])\n",
    "    writer.writerow(['삼성전자','005930',15.59])\n",
    "    writer.writerow(['NAVER','035420',55.82])"
   ]
  },
  {
   "cell_type": "code",
   "execution_count": 24,
   "id": "16419a96",
   "metadata": {},
   "outputs": [
    {
     "data": {
      "text/plain": [
       "['005930\\n', '005380\\n', '035420']"
      ]
     },
     "execution_count": 24,
     "metadata": {},
     "output_type": "execute_result"
    }
   ],
   "source": [
    "with open ('C:\\\\workspace\\\\매수종목1.txt','r') as f:\n",
    "    a = f.readlines()\n",
    "a"
   ]
  },
  {
   "cell_type": "code",
   "execution_count": 25,
   "id": "c0f69d05",
   "metadata": {},
   "outputs": [
    {
     "data": {
      "text/plain": [
       "{'005930': '삼성전자', '005380': '현대차', '035420': 'NAVER'}"
      ]
     },
     "execution_count": 25,
     "metadata": {},
     "output_type": "execute_result"
    }
   ],
   "source": [
    "with open ('C:\\\\workspace\\\\매수종목2.txt','r') as f:\n",
    "    a = f.readlines()\n",
    "    \n",
    "\n",
    "b = dict()\n",
    "for comp in a:\n",
    "    comp = comp.replace('\\n','')\n",
    "    b[comp.split(' ')[0]] = comp.split(' ')[1]\n",
    "b"
   ]
  },
  {
   "cell_type": "code",
   "execution_count": 26,
   "id": "1df3cc67",
   "metadata": {},
   "outputs": [
    {
     "name": "stdout",
     "output_type": "stream",
     "text": [
      "10.31\n",
      "0\n",
      "8.0\n"
     ]
    }
   ],
   "source": [
    "per = [\"10.31\", \"\", \"8.00\"]\n",
    "\n",
    "for i in per:\n",
    "    try : \n",
    "        print(float(i))\n",
    "    except:\n",
    "        print(0)"
   ]
  },
  {
   "cell_type": "code",
   "execution_count": 27,
   "id": "7bf38a68",
   "metadata": {},
   "outputs": [
    {
     "data": {
      "text/plain": [
       "[10.31, 0, 8.0]"
      ]
     },
     "execution_count": 27,
     "metadata": {},
     "output_type": "execute_result"
    }
   ],
   "source": [
    "per = [\"10.31\", \"\", \"8.00\"]\n",
    "\n",
    "a = []\n",
    "for i in per:\n",
    "    try : \n",
    "        a.append(float(i))\n",
    "    except:\n",
    "        a.append(0)\n",
    "a"
   ]
  },
  {
   "cell_type": "code",
   "execution_count": 28,
   "id": "7bc032dc",
   "metadata": {},
   "outputs": [
    {
     "name": "stdout",
     "output_type": "stream",
     "text": [
      "0으로 나누면 안되요\n"
     ]
    }
   ],
   "source": [
    "try:\n",
    "    b = 3 / 0\n",
    "except ZeroDivisionError:\n",
    "    print(\"0으로 나누면 안되요\")"
   ]
  },
  {
   "cell_type": "code",
   "execution_count": 29,
   "id": "54a71e5e",
   "metadata": {},
   "outputs": [
    {
     "name": "stdout",
     "output_type": "stream",
     "text": [
      "1\n",
      "2\n",
      "3\n",
      "list index out of range\n",
      "list index out of range\n"
     ]
    }
   ],
   "source": [
    "data = [1, 2, 3]\n",
    "\n",
    "for i in range(5):\n",
    "    try:\n",
    "        print(data[i])\n",
    "    except IndexError as e:\n",
    "        print(e)"
   ]
  },
  {
   "cell_type": "code",
   "execution_count": 36,
   "id": "c6ef780d",
   "metadata": {},
   "outputs": [
    {
     "name": "stdout",
     "output_type": "stream",
     "text": [
      "10.31\n",
      "뭐 출력하지\n",
      "과제 끝\n",
      "0\n",
      "과제 끝\n",
      "8.0\n",
      "뭐 출력하지\n",
      "과제 끝\n"
     ]
    }
   ],
   "source": [
    "per = [\"10.31\", \"\", \"8.00\"]\n",
    "\n",
    "for i in per:\n",
    "    try:\n",
    "        print(float(i))\n",
    "    except :\n",
    "        print(0)\n",
    "    else:\n",
    "        print('뭐 출력하지')\n",
    "    finally:\n",
    "        print('과제 끝')"
   ]
  }
 ],
 "metadata": {
  "kernelspec": {
   "display_name": "Python 3 (ipykernel)",
   "language": "python",
   "name": "python3"
  },
  "language_info": {
   "codemirror_mode": {
    "name": "ipython",
    "version": 3
   },
   "file_extension": ".py",
   "mimetype": "text/x-python",
   "name": "python",
   "nbconvert_exporter": "python",
   "pygments_lexer": "ipython3",
   "version": "3.11.5"
  },
  "toc": {
   "base_numbering": 1,
   "nav_menu": {},
   "number_sections": true,
   "sideBar": true,
   "skip_h1_title": false,
   "title_cell": "Table of Contents",
   "title_sidebar": "Contents",
   "toc_cell": true,
   "toc_position": {
    "height": "calc(100% - 180px)",
    "left": "10px",
    "top": "150px",
    "width": "165px"
   },
   "toc_section_display": true,
   "toc_window_display": true
  }
 },
 "nbformat": 4,
 "nbformat_minor": 5
}
