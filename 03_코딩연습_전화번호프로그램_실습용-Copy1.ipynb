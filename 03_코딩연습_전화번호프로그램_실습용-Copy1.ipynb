{
 "cells": [
  {
   "cell_type": "markdown",
   "metadata": {},
   "source": [
    "# 전화번호 프로그램 만들기\n",
    "\n",
    "* 홍길동 010-123-4567\n",
    "* 기능1 : 연락처 추가\n",
    "* 기능2 : 연락처 전체 보기\n",
    "* 기능3 : 검색, 이름을 입력받아서 전화번호 조회\n",
    "* 기능4 : 수정, 이름을 입력받아서 전화번호 입력수정\n",
    "* 기능5 : 삭제, 이름 입력받아서 삭제\n",
    "* 기능6 : 프로그램 종료"
   ]
  },
  {
   "cell_type": "code",
   "execution_count": 12,
   "metadata": {},
   "outputs": [],
   "source": [
    "from IPython.display import clear_output \n",
    "from time import sleep\n",
    "\n",
    "print(1)\n",
    "sleep(1)\n",
    "clear_output()"
   ]
  },
  {
   "cell_type": "code",
   "execution_count": 14,
   "metadata": {},
   "outputs": [
    {
     "name": "stdout",
     "output_type": "stream",
     "text": [
      "연락처를 추가하고 싶으시다면 1번\n",
      "등록된 연락처를 보고 싶으시다면 2번\n",
      "전화 번호를 조회하고 싶으시다면 3번\n",
      "입력된 정보를 수정하고 싶으시다면 4번\n",
      "입력된 정보를 삭제하고 싶으시다면 5번\n",
      "프로그램의 종료를 원하시면 6번을 눌러주세요\n",
      "원하시는 기능을 선택해주세요,3\n",
      "성함을 입력해 주세요 : 12\n",
      "성함이 프로그램에 존재하지 않습니다\n",
      "-----------------\n"
     ]
    },
    {
     "ename": "KeyboardInterrupt",
     "evalue": "Interrupted by user",
     "output_type": "error",
     "traceback": [
      "\u001b[1;31m---------------------------------------------------------------------------\u001b[0m",
      "\u001b[1;31mKeyboardInterrupt\u001b[0m                         Traceback (most recent call last)",
      "Cell \u001b[1;32mIn[14], line 43\u001b[0m\n\u001b[0;32m     41\u001b[0m             \u001b[38;5;28;01mbreak\u001b[39;00m\n\u001b[0;32m     42\u001b[0m     \u001b[38;5;28mprint\u001b[39m(\u001b[38;5;124m'\u001b[39m\u001b[38;5;124m-----------------\u001b[39m\u001b[38;5;124m'\u001b[39m)\n\u001b[1;32m---> 43\u001b[0m     n \u001b[38;5;241m=\u001b[39m \u001b[38;5;28minput\u001b[39m(\u001b[38;5;124m\"\u001b[39m\u001b[38;5;124m진행을 원하시면 엔터를 입력해주세요...\u001b[39m\u001b[38;5;124m\"\u001b[39m)\n\u001b[0;32m     44\u001b[0m     \u001b[38;5;28;01mcontinue\u001b[39;00m\n\u001b[0;32m     45\u001b[0m \u001b[38;5;28;01melif\u001b[39;00m func \u001b[38;5;241m==\u001b[39m\u001b[38;5;241m4\u001b[39m:\n",
      "File \u001b[1;32m~\\anaconda3\\Lib\\site-packages\\ipykernel\\kernelbase.py:1202\u001b[0m, in \u001b[0;36mKernel.raw_input\u001b[1;34m(self, prompt)\u001b[0m\n\u001b[0;32m   1200\u001b[0m     msg \u001b[38;5;241m=\u001b[39m \u001b[38;5;124m\"\u001b[39m\u001b[38;5;124mraw_input was called, but this frontend does not support input requests.\u001b[39m\u001b[38;5;124m\"\u001b[39m\n\u001b[0;32m   1201\u001b[0m     \u001b[38;5;28;01mraise\u001b[39;00m StdinNotImplementedError(msg)\n\u001b[1;32m-> 1202\u001b[0m \u001b[38;5;28;01mreturn\u001b[39;00m \u001b[38;5;28mself\u001b[39m\u001b[38;5;241m.\u001b[39m_input_request(\n\u001b[0;32m   1203\u001b[0m     \u001b[38;5;28mstr\u001b[39m(prompt),\n\u001b[0;32m   1204\u001b[0m     \u001b[38;5;28mself\u001b[39m\u001b[38;5;241m.\u001b[39m_parent_ident[\u001b[38;5;124m\"\u001b[39m\u001b[38;5;124mshell\u001b[39m\u001b[38;5;124m\"\u001b[39m],\n\u001b[0;32m   1205\u001b[0m     \u001b[38;5;28mself\u001b[39m\u001b[38;5;241m.\u001b[39mget_parent(\u001b[38;5;124m\"\u001b[39m\u001b[38;5;124mshell\u001b[39m\u001b[38;5;124m\"\u001b[39m),\n\u001b[0;32m   1206\u001b[0m     password\u001b[38;5;241m=\u001b[39m\u001b[38;5;28;01mFalse\u001b[39;00m,\n\u001b[0;32m   1207\u001b[0m )\n",
      "File \u001b[1;32m~\\anaconda3\\Lib\\site-packages\\ipykernel\\kernelbase.py:1245\u001b[0m, in \u001b[0;36mKernel._input_request\u001b[1;34m(self, prompt, ident, parent, password)\u001b[0m\n\u001b[0;32m   1242\u001b[0m \u001b[38;5;28;01mexcept\u001b[39;00m \u001b[38;5;167;01mKeyboardInterrupt\u001b[39;00m:\n\u001b[0;32m   1243\u001b[0m     \u001b[38;5;66;03m# re-raise KeyboardInterrupt, to truncate traceback\u001b[39;00m\n\u001b[0;32m   1244\u001b[0m     msg \u001b[38;5;241m=\u001b[39m \u001b[38;5;124m\"\u001b[39m\u001b[38;5;124mInterrupted by user\u001b[39m\u001b[38;5;124m\"\u001b[39m\n\u001b[1;32m-> 1245\u001b[0m     \u001b[38;5;28;01mraise\u001b[39;00m \u001b[38;5;167;01mKeyboardInterrupt\u001b[39;00m(msg) \u001b[38;5;28;01mfrom\u001b[39;00m \u001b[38;5;28;01mNone\u001b[39;00m\n\u001b[0;32m   1246\u001b[0m \u001b[38;5;28;01mexcept\u001b[39;00m \u001b[38;5;167;01mException\u001b[39;00m:\n\u001b[0;32m   1247\u001b[0m     \u001b[38;5;28mself\u001b[39m\u001b[38;5;241m.\u001b[39mlog\u001b[38;5;241m.\u001b[39mwarning(\u001b[38;5;124m\"\u001b[39m\u001b[38;5;124mInvalid Message:\u001b[39m\u001b[38;5;124m\"\u001b[39m, exc_info\u001b[38;5;241m=\u001b[39m\u001b[38;5;28;01mTrue\u001b[39;00m)\n",
      "\u001b[1;31mKeyboardInterrupt\u001b[0m: Interrupted by user"
     ]
    }
   ],
   "source": [
    "\"\"\"name = input(\"성함을 입력해주세요\")\n",
    "phone = input(\"전화 번호를 입력해주세요\")\n",
    "info = {'이름':'번호'}\n",
    "info[name] = phone\"\"\"\n",
    "\n",
    "info = {'이름':'번호'}\n",
    "\n",
    "while True:\n",
    "    clear_output()\n",
    "    print(\"연락처를 추가하고 싶으시다면 1번\")\n",
    "    print(\"등록된 연락처를 보고 싶으시다면 2번\")\n",
    "    print(\"전화 번호를 조회하고 싶으시다면 3번\")\n",
    "    print(\"입력된 정보를 수정하고 싶으시다면 4번\")\n",
    "    print(\"입력된 정보를 삭제하고 싶으시다면 5번\")\n",
    "    print(\"프로그램의 종료를 원하시면 6번을 눌러주세요\")\n",
    "    func = int(input(\"원하시는 기능을 선택해주세요,\"))\n",
    "    \n",
    "    if func ==1:\n",
    "        name = input(\"성함을 입력해주세요 : \")\n",
    "        phone = input(\"전화 번호를 입력해주세요 : \")\n",
    "        print(\"연락처가 등록되었습니다.\")\n",
    "        print('----------------------------------')\n",
    "        info[name] = phone\n",
    "        print(name,phone)\n",
    "        n = input(\"진행을 원하시면 엔터를 입력해주세요...\")\n",
    "        continue\n",
    "    elif func ==2:\n",
    "        for key in info.keys():\n",
    "            print(key,info[key])\n",
    "        print('----------------------------------')\n",
    "        n = input(\"진행을 원하시면 엔터를 입력해주세요...\")\n",
    "        continue\n",
    "    elif func ==3:\n",
    "        while True:\n",
    "            ser_name = input(\"성함을 입력해 주세요 : \")\n",
    "            if ser_name not in info.keys():\n",
    "                print(\"성함이 프로그램에 존재하지 않습니다\")\n",
    "                break\n",
    "            else:\n",
    "                print(f\"{ser_name}님이 등록하신 전화 번호는 {info[key]}입니다\")\n",
    "                break\n",
    "        print('----------------------------------')\n",
    "        n = input(\"진행을 원하시면 엔터를 입력해주세요...\")\n",
    "        continue\n",
    "    elif func ==4:\n",
    "        while True:\n",
    "            ser_name = input(\"성함을 입력해 주세요 : \")\n",
    "            if ser_name not in info.keys():\n",
    "                print(\"성함이 프로그램에 존재하지 않습니다\")\n",
    "                break\n",
    "            else:\n",
    "                new_phone = input(\"수정하실 전화 번호를 입력해주세요 : \")\n",
    "                info[ser_name] = new_phone\n",
    "                print(\"변경이 완료되었습니다.\")\n",
    "                break\n",
    "        print('----------------------------------')\n",
    "        n = input(\"진행을 원하시면 엔터를 입력해주세요...\")\n",
    "        continue\n",
    "    elif func ==5:\n",
    "        while True:\n",
    "            ser_name = input(\"성함을 입력해 주세요 : \")\n",
    "            if ser_name not in info.keys():\n",
    "                print(\"성함이 프로그램에 존재하지 않습니다\")\n",
    "                break\n",
    "            else:\n",
    "                del info[ser_name]\n",
    "                print(\"삭제가 완료되었습니다.\")\n",
    "                break\n",
    "        print('----------------------------------')\n",
    "        n = input(\"진행을 원하시면 엔터를 입력해주세요...\")\n",
    "        continue\n",
    "    else:\n",
    "        print(\"프로그램이 종료되었습니다. 이용해주셔서 감사합니다.\")\n",
    "        \n",
    "        \n",
    "    "
   ]
  },
  {
   "cell_type": "code",
   "execution_count": null,
   "metadata": {},
   "outputs": [],
   "source": []
  }
 ],
 "metadata": {
  "kernelspec": {
   "display_name": "Python 3 (ipykernel)",
   "language": "python",
   "name": "python3"
  },
  "language_info": {
   "codemirror_mode": {
    "name": "ipython",
    "version": 3
   },
   "file_extension": ".py",
   "mimetype": "text/x-python",
   "name": "python",
   "nbconvert_exporter": "python",
   "pygments_lexer": "ipython3",
   "version": "3.11.5"
  },
  "toc": {
   "base_numbering": 1,
   "nav_menu": {},
   "number_sections": true,
   "sideBar": true,
   "skip_h1_title": false,
   "title_cell": "Table of Contents",
   "title_sidebar": "Contents",
   "toc_cell": false,
   "toc_position": {},
   "toc_section_display": true,
   "toc_window_display": false
  },
  "varInspector": {
   "cols": {
    "lenName": 16,
    "lenType": 16,
    "lenVar": 40
   },
   "kernels_config": {
    "python": {
     "delete_cmd_postfix": "",
     "delete_cmd_prefix": "del ",
     "library": "var_list.py",
     "varRefreshCmd": "print(var_dic_list())"
    },
    "r": {
     "delete_cmd_postfix": ") ",
     "delete_cmd_prefix": "rm(",
     "library": "var_list.r",
     "varRefreshCmd": "cat(var_dic_list()) "
    }
   },
   "types_to_exclude": [
    "module",
    "function",
    "builtin_function_or_method",
    "instance",
    "_Feature"
   ],
   "window_display": false
  }
 },
 "nbformat": 4,
 "nbformat_minor": 2
}
